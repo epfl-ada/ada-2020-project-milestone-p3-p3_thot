{
 "cells": [
  {
   "cell_type": "markdown",
   "metadata": {},
   "source": [
    "# Linguistic Harbinger of Fake News - Paper Extension\n",
    "\n",
    "In this extension, our goal is to explore whether the linguistic cues found in the original paper are suitable for a descriptive/predictive analysis in the context of fake news recognition."
   ]
  },
  {
   "cell_type": "code",
   "execution_count": 1,
   "metadata": {},
   "outputs": [
    {
     "name": "stderr",
     "output_type": "stream",
     "text": [
      "[nltk_data] Downloading package averaged_perceptron_tagger to\n",
      "[nltk_data]     /home/oraziorillo/nltk_data...\n",
      "[nltk_data]   Package averaged_perceptron_tagger is already up-to-\n",
      "[nltk_data]       date!\n",
      "[nltk_data] Downloading package vader_lexicon to\n",
      "[nltk_data]     /home/oraziorillo/nltk_data...\n",
      "[nltk_data]   Package vader_lexicon is already up-to-date!\n",
      "[nltk_data] Downloading package stopwords to\n",
      "[nltk_data]     /home/oraziorillo/nltk_data...\n",
      "[nltk_data]   Package stopwords is already up-to-date!\n",
      "[nltk_data] Downloading package wordnet to\n",
      "[nltk_data]     /home/oraziorillo/nltk_data...\n",
      "[nltk_data]   Package wordnet is already up-to-date!\n",
      "[nltk_data] Downloading package words to\n",
      "[nltk_data]     /home/oraziorillo/nltk_data...\n",
      "[nltk_data]   Package words is already up-to-date!\n",
      "[nltk_data] Downloading package punkt to\n",
      "[nltk_data]     /home/oraziorillo/nltk_data...\n",
      "[nltk_data]   Package punkt is already up-to-date!\n",
      "/home/oraziorillo/Programs/anaconda3/envs/ada/lib/python3.8/site-packages/tqdm/std.py:697: FutureWarning: The Panel class is removed from pandas. Accessing it from the top-level namespace will also be removed in the next version\n",
      "  from pandas import Panel\n"
     ]
    }
   ],
   "source": [
    "import pandas as pd\n",
    "import numpy as np\n",
    "import math\n",
    "import nltk\n",
    "import nltk.data\n",
    "import re\n",
    "import pickle\n",
    "import statsmodels.api as sm\n",
    "import matplotlib.pyplot as plt\n",
    "import seaborn as sns\n",
    "from discourseMarkers import rule\n",
    "from nltk import word_tokenize\n",
    "from nltk import sentiment\n",
    "from nltk import pos_tag\n",
    "from nltk.sentiment.vader import SentimentIntensityAnalyzer\n",
    "from nltk.parse.corenlp import CoreNLPParser\n",
    "from nltk.tokenize import sent_tokenize\n",
    "from textblob import TextBlob\n",
    "from tqdm import tqdm\n",
    "from sklearn.model_selection import train_test_split\n",
    "from sklearn.preprocessing import MinMaxScaler\n",
    "from sklearn.linear_model import LogisticRegression\n",
    "from sklearn.metrics import classification_report\n",
    "from sklearn.metrics import roc_auc_score\n",
    "from sklearn.metrics import roc_curve\n",
    "from resources import lemmatizer, premise_conclusion_markers, english_dictionary, wordnet\n",
    "\n",
    "# Create and register a new `tqdm` instance with `pandas`\n",
    "tqdm.pandas()"
   ]
  },
  {
   "cell_type": "markdown",
   "metadata": {},
   "source": [
    "### Step 0: the dataset\n",
    "\n",
    "The dataset that we are using in the following analysis has been downloaded from Kaggle at this [link](https://www.kaggle.com/jruvika/fake-news-detection).\n",
    "It is composed by 4009 entries of real of fake articles about different topics. Each entry specifies the source URLs of the article, its title, its body and a label that is 0 in case the news is fake and 1 otherwise.\n",
    "\n",
    "The dataset contains some articles with empty body. We decided to discard such articles since none of the features that we try to identify is meaningful if computed by using the title only.\n",
    "\n",
    "Note that even though the dataset contains the source URLs of the articles, they will not be used on purpose in the following analysis: our intention is to explore linguistic cues that characterize deception, not to distinguish trustworthy from untrustworty websites."
   ]
  },
  {
   "cell_type": "code",
   "execution_count": 2,
   "metadata": {},
   "outputs": [],
   "source": [
    "data_raw = pd.read_csv(\"data/data.csv\")\n",
    "data = data_raw.copy(deep = True).dropna().reset_index(drop=True)"
   ]
  },
  {
   "cell_type": "code",
   "execution_count": 3,
   "metadata": {},
   "outputs": [
    {
     "name": "stdout",
     "output_type": "stream",
     "text": [
      "<class 'pandas.core.frame.DataFrame'>\n",
      "RangeIndex: 3988 entries, 0 to 3987\n",
      "Data columns (total 4 columns):\n",
      " #   Column    Non-Null Count  Dtype \n",
      "---  ------    --------------  ----- \n",
      " 0   URLs      3988 non-null   object\n",
      " 1   Headline  3988 non-null   object\n",
      " 2   Body      3988 non-null   object\n",
      " 3   Label     3988 non-null   int64 \n",
      "dtypes: int64(1), object(3)\n",
      "memory usage: 124.8+ KB\n"
     ]
    }
   ],
   "source": [
    "data.info()"
   ]
  },
  {
   "cell_type": "markdown",
   "metadata": {},
   "source": [
    "### Step 1: Preprocessing and Feature Extraction \n",
    "\n",
    "Both preprocessing and feature extraction are performed by the same function: extract_linguisic_features, which first cleans the dataset and then applies the feature extractors. \n",
    "\n",
    "The first cleaning is very simple, since some of the feature extractors require the sentences to be plain text. Indeed, the only operation applied to all the sentences in the dataset has been to swap fullstop and ending quotes whenever they were found in the wrong order at the end of quoted sentence. Many times we were able to recognise the pattern '.”' in the articles; however, the correct order is: '”.'. This was a problem when we tried to split an artilce in subsentences. nltk's sentence tokenizer, in fact, does not recognize the end of a sentence all the times the mentioned pattern occurs.\n",
    "\n",
    "The features that we will try to identify for each article are the following ones:\n",
    " - number_of_sentences: number of sentences in the article, first split the article into sentences and then count them;\n",
    " - number_of_words: number of word tokens in the article (special characters, that are usually considered tokens by the nltk tokenizer, are discarded);\n",
    " - average_sentence_lenght: average lenght of the article's sentences, to compute it divide the total number of words by the number of sentences in the article\n",
    " - average_word_lenght: average lenght of words in the article, computed by averaging the lenghts words in the article;\n",
    " - nltk_sentiment: numerical value that describes the sentiment of the article, computed using the Sentiment Intensity Analyzer by nltk;\n",
    " - subjectivity: numerical value that describes how much the article is subjective, computing using TextBlob;\n",
    " - number_of_premise_conclusion_markers: number of premise or conclusion markers in the article, computed by looking for specific markers taken from an handcrafted lexicon which takes ispiration form this online [resource](https://academic.csuohio.edu/polen/LC9_Help/1/11pcindicators.htm);\n",
    " - dictionary_percentage: percentage of words in the article that exist on the english dictionary in their lemmatized form, computed by first lemmatizing word tokens in the article, then searching them on the dictionary, and then take the percentage of them which is present on the vocabulary;\n",
    " - number_of_discourse_markers: number of argumentation/discourse markers of the article, computed by running a python script (that you can find in this folder) named discourse_markers.py, which requires the parse tree sentence representation given by Stanford parser.  \n",
    " \n",
    "#TODO: Try dl"
   ]
  },
  {
   "cell_type": "code",
   "execution_count": 4,
   "metadata": {},
   "outputs": [],
   "source": [
    "# TODO Comment + can we directly pass sentences as argument?\n",
    "def nltk_sentiment(text):\n",
    "    score_compound = []\n",
    "    sid = SentimentIntensityAnalyzer()\n",
    "    tokenizer = nltk.data.load('tokenizers/punkt/english.pickle')\n",
    "    try:\n",
    "        sentences = tokenizer.tokenize(text)\n",
    "    except:\n",
    "        print(text)\n",
    "    for sentence in sentences:\n",
    "        scores = sid.polarity_scores(sentence)\n",
    "        score_compound.append(scores['compound'])\n",
    "\n",
    "    return np.mean(score_compound)"
   ]
  },
  {
   "cell_type": "code",
   "execution_count": 5,
   "metadata": {},
   "outputs": [],
   "source": [
    "def subjectivity_score(text):\n",
    "    ''' Compute the subjectivity score of the text '''\n",
    "    return TextBlob(text).sentiment[1]"
   ]
  },
  {
   "cell_type": "code",
   "execution_count": 6,
   "metadata": {},
   "outputs": [],
   "source": [
    "def invert_quotes_fullstop(sentence):\n",
    "    ''' Substitute all the patterns '.”' with '”.' in the sentence '''\n",
    "    return sentence.replace('.”', '”.')"
   ]
  },
  {
   "cell_type": "code",
   "execution_count": 7,
   "metadata": {},
   "outputs": [],
   "source": [
    "def split_sentences(text):\n",
    "    ''' Split the text in its sub-sentences and return them as a list '''\n",
    "    sentences = []\n",
    "    # Split paragraphs on new line\n",
    "    for period in text.split(\"\\n\"):\n",
    "        # Further split paragraphs in sentences using nltk sentence tokenizer\n",
    "        for sentence in sent_tokenize(period):\n",
    "            sentences.append(sentence)\n",
    "    return sentences"
   ]
  },
  {
   "cell_type": "code",
   "execution_count": 8,
   "metadata": {},
   "outputs": [],
   "source": [
    "def count_future_verbs(sentence): \n",
    "    ''' Count the number of future tenses in the sentence '''\n",
    "    future_patterns = ['will', '\\'ll', 'going to']\n",
    "    return np.sum([sentence.count(substring) for substring in future_patterns])"
   ]
  },
  {
   "cell_type": "code",
   "execution_count": 9,
   "metadata": {},
   "outputs": [],
   "source": [
    "def count_premise_conclusion_markers(sentence):  \n",
    "    ''' Count the number of premise and conclusion markers in the sentence'''\n",
    "    counter = 0\n",
    "    # Look for markers in the hand-crafted lexicon\n",
    "    for marker in premise_conclusion_markers:\n",
    "        if sentence.find(marker) != -1:\n",
    "            counter += 1\n",
    "    return counter"
   ]
  },
  {
   "cell_type": "code",
   "execution_count": 10,
   "metadata": {},
   "outputs": [],
   "source": [
    "def get_wordnet_pos(treebank_tag):\n",
    "    '''\n",
    "    Helper function to convert a POS tag from the Penn Treebank to a WordNet format\n",
    "    :param treebank_tag: Penn Treebank POS tag, string\n",
    "    :returns: WordNet POS tag\n",
    "    '''\n",
    "\n",
    "    if treebank_tag.startswith(\"J\"):\n",
    "        return wordnet.ADJ\n",
    "    elif treebank_tag.startswith(\"V\"):\n",
    "        return wordnet.VERB\n",
    "    elif treebank_tag.startswith(\"N\"):\n",
    "        return wordnet.NOUN\n",
    "    elif treebank_tag.startswith(\"R\"):\n",
    "        return wordnet.ADV\n",
    "    else:\n",
    "        return wordnet.NOUN"
   ]
  },
  {
   "cell_type": "code",
   "execution_count": 11,
   "metadata": {},
   "outputs": [],
   "source": [
    "def lemmatize_words(words):\n",
    "    '''\n",
    "    Function to lemmatize word tokens using the WordNet lemmatizer\n",
    "    :param words: list of word tokens in the tweet\n",
    "    :returns: list of lemmatized word tokens\n",
    "    '''\n",
    "\n",
    "    lemmatized_words = []\n",
    "    # Get the Penn Treebank POS tags for the word tokens\n",
    "    word_pos_tags = pos_tag(words)\n",
    "    for word, word_pos_tag in word_pos_tags:\n",
    "        # Get the WordNet POS tag\n",
    "        word_pos_tag = get_wordnet_pos(word_pos_tag)\n",
    "        # Use the WordNet POS tag to lemmatize the word into the correct word form\n",
    "        lemmatized_words.append(lemmatizer.lemmatize(word, word_pos_tag))\n",
    "    return lemmatized_words"
   ]
  },
  {
   "cell_type": "code",
   "execution_count": 12,
   "metadata": {},
   "outputs": [],
   "source": [
    "def get_word_tokens(sentence):\n",
    "    '''\n",
    "    Function to retrieve only tokens corresponding to words (sequence of alphabetic characters)\n",
    "    :param sentence: string corresponding to an English sentence\n",
    "    :returns: parsed list of tokens with only word tokens\n",
    "    '''\n",
    "    tokens = word_tokenize(sentence)\n",
    "    return [token for token in tokens if re.match(r\"^[A-Za-z\\']+$\", token)]"
   ]
  },
  {
   "cell_type": "code",
   "execution_count": 13,
   "metadata": {},
   "outputs": [],
   "source": [
    "def parse_tree(sentence):\n",
    "    ''' \n",
    "    Create the parse tree for the given sentence \n",
    "    :param sentence: plain English sentence\n",
    "    :returns: nltk.Tree parse tree of the sentence\n",
    "    '''\n",
    "    parser = CoreNLPParser()\n",
    "    return next(parser.raw_parse(sentence))"
   ]
  },
  {
   "cell_type": "code",
   "execution_count": 14,
   "metadata": {},
   "outputs": [],
   "source": [
    "def percentage_words_in_dict(words):\n",
    "    ''' \n",
    "    Computes the percentage of words in words present on the English dictionary\n",
    "    :param words: list of words\n",
    "    :returns: percentage of words in words on the dictionary in their lemmatized form\n",
    "    '''\n",
    "    # Fill this list with the words whose lemma can be found on English dictionary\n",
    "    dictionary_words = [word for word in lemmatize_words(words) if word in english_dictionary]\n",
    "    num_dictionary_words = len(dictionary_words)\n",
    "    num_words = len(words)\n",
    "    dictionary_percentage = num_dictionary_words / num_words if num_words > 0 else 0\n",
    "    return dictionary_percentage"
   ]
  },
  {
   "cell_type": "code",
   "execution_count": 15,
   "metadata": {},
   "outputs": [],
   "source": [
    "def extract_linguisic_features(text):\n",
    "    ''' \n",
    "    Clean the text and then extract all the mentioned linguistic features from it,\n",
    "    organize them in a dictionary and return it\n",
    "    :param text: plain article text as a string\n",
    "    :returns: dictionary containing all the features of the given text  \n",
    "    '''\n",
    "    \n",
    "    features = dict()\n",
    "    \n",
    "    clean_text = invert_quotes_fullstop(text)\n",
    "    \n",
    "    sentences = split_sentences(clean_text)\n",
    "    words = get_word_tokens(clean_text)\n",
    "    \n",
    "    # Compute the total number of sentences\n",
    "    num_sentences = len(sentences)\n",
    "    features['number_of_sentences'] = num_sentences\n",
    "    \n",
    "    # Compute the number of words in the text\n",
    "    num_words = len(words)\n",
    "    features['number_of_words'] = num_words\n",
    "    \n",
    "    # Compute the average lenght of text's sentences\n",
    "    features['average_sentence_lenght'] = num_words / num_sentences \n",
    "    \n",
    "    # Compute the average lenght of the words in the text\n",
    "    features['average_word_lenght'] = np.mean([len(w) for w in words])\n",
    "    \n",
    "    # Compute the sentiment of the text\n",
    "    features['nltk_sentiment'] = nltk_sentiment(clean_text)\n",
    "    \n",
    "    # data['bert_sentment'] = data.Body.apply(bert_sentiment)\n",
    "    features['subjectivity'] = subjectivity_score(clean_text)\n",
    "    \n",
    "    # Compute the number of verbs at future tense\n",
    "    features['number_of_future_verbs'] = count_future_verbs(clean_text)\n",
    "    \n",
    "    # Compute the number of premise and conclusion markers\n",
    "    features['number_of_premise_conclusion_markers'] = count_premise_conclusion_markers(clean_text)\n",
    "    \n",
    "    # Compute the proportion of words belonging to the dictionary\n",
    "    features['dictionary_percentage'] = percentage_words_in_dict(words)\n",
    "    \n",
    "    return features"
   ]
  },
  {
   "cell_type": "markdown",
   "metadata": {},
   "source": [
    "The following cell has to be run only the first time. After that, the features' dataframe will be stored in a proper csv file and from that moment it can be instantly loaded by reading the csv."
   ]
  },
  {
   "cell_type": "code",
   "execution_count": 16,
   "metadata": {},
   "outputs": [
    {
     "name": "stderr",
     "output_type": "stream",
     "text": [
      "100%|██████████| 3988/3988 [03:11<00:00, 20.82it/s]\n"
     ]
    }
   ],
   "source": [
    "try: \n",
    "    # Load the features' dataframe from the csv file if present\n",
    "    features_df = pd.read_csv(\"data/features.csv\") \n",
    "\n",
    "except FileNotFoundError:\n",
    "    \n",
    "    # Extract features from each article and put them in a dataframe\n",
    "    features_df = data.progress_apply(lambda x: pd.Series(extract_linguisic_features(x.Body)), axis=1)\n",
    "\n",
    "    # Load the pre-computed discourse markers list\n",
    "    with open('discourseMarkers.data', 'rb') as filehandle:\n",
    "        # read the data as binary data stream\n",
    "        discourse_markers = pickle.load(filehandle)\n",
    "\n",
    "    # Add a new column to the features dataframe \n",
    "    # containing the number of discourse markers for each article\n",
    "    features_df['number_of_discourse_markers'] = pd.Series([len(l) for l in discourse_markers])\n",
    "\n",
    "    # Store the dataframe \n",
    "    features_df.to_csv(\"data/features.csv\", index=False)"
   ]
  },
  {
   "cell_type": "code",
   "execution_count": 17,
   "metadata": {},
   "outputs": [],
   "source": [
    "# Merge the original dataframe with the new features\n",
    "extended_df = data.merge(features_df, right_index=True, left_index=True)"
   ]
  },
  {
   "cell_type": "code",
   "execution_count": 18,
   "metadata": {},
   "outputs": [
    {
     "data": {
      "text/html": [
       "<div>\n",
       "<style scoped>\n",
       "    .dataframe tbody tr th:only-of-type {\n",
       "        vertical-align: middle;\n",
       "    }\n",
       "\n",
       "    .dataframe tbody tr th {\n",
       "        vertical-align: top;\n",
       "    }\n",
       "\n",
       "    .dataframe thead th {\n",
       "        text-align: right;\n",
       "    }\n",
       "</style>\n",
       "<table border=\"1\" class=\"dataframe\">\n",
       "  <thead>\n",
       "    <tr style=\"text-align: right;\">\n",
       "      <th></th>\n",
       "      <th>URLs</th>\n",
       "      <th>Headline</th>\n",
       "      <th>Body</th>\n",
       "      <th>Label</th>\n",
       "      <th>number_of_sentences</th>\n",
       "      <th>number_of_words</th>\n",
       "      <th>average_sentence_lenght</th>\n",
       "      <th>average_word_lenght</th>\n",
       "      <th>nltk_sentiment</th>\n",
       "      <th>subjectivity</th>\n",
       "      <th>number_of_future_verbs</th>\n",
       "      <th>number_of_premise_conclusion_markers</th>\n",
       "      <th>dictionary_percentage</th>\n",
       "      <th>number_of_discourse_markers</th>\n",
       "    </tr>\n",
       "  </thead>\n",
       "  <tbody>\n",
       "    <tr>\n",
       "      <th>0</th>\n",
       "      <td>http://www.bbc.com/news/world-us-canada-414191...</td>\n",
       "      <td>Four ways Bob Corker skewered Donald Trump</td>\n",
       "      <td>Image copyright Getty Images\\nOn Sunday mornin...</td>\n",
       "      <td>1</td>\n",
       "      <td>56.0</td>\n",
       "      <td>1081.0</td>\n",
       "      <td>19.303571</td>\n",
       "      <td>4.719704</td>\n",
       "      <td>-0.055431</td>\n",
       "      <td>0.45786</td>\n",
       "      <td>6.0</td>\n",
       "      <td>4.0</td>\n",
       "      <td>0.823312</td>\n",
       "      <td>47</td>\n",
       "    </tr>\n",
       "  </tbody>\n",
       "</table>\n",
       "</div>"
      ],
      "text/plain": [
       "                                                URLs  \\\n",
       "0  http://www.bbc.com/news/world-us-canada-414191...   \n",
       "\n",
       "                                     Headline  \\\n",
       "0  Four ways Bob Corker skewered Donald Trump   \n",
       "\n",
       "                                                Body  Label  \\\n",
       "0  Image copyright Getty Images\\nOn Sunday mornin...      1   \n",
       "\n",
       "   number_of_sentences  number_of_words  average_sentence_lenght  \\\n",
       "0                 56.0           1081.0                19.303571   \n",
       "\n",
       "   average_word_lenght  nltk_sentiment  subjectivity  number_of_future_verbs  \\\n",
       "0             4.719704       -0.055431       0.45786                     6.0   \n",
       "\n",
       "   number_of_premise_conclusion_markers  dictionary_percentage  \\\n",
       "0                                   4.0               0.823312   \n",
       "\n",
       "   number_of_discourse_markers  \n",
       "0                           47  "
      ]
     },
     "execution_count": 18,
     "metadata": {},
     "output_type": "execute_result"
    }
   ],
   "source": [
    "extended_df.head(1)"
   ]
  },
  {
   "cell_type": "markdown",
   "metadata": {},
   "source": [
    "### Step 2: Regression\n",
    "\n",
    "TODO: add textual description"
   ]
  },
  {
   "cell_type": "code",
   "execution_count": 19,
   "metadata": {},
   "outputs": [],
   "source": [
    "features = list(features_df.columns)\n",
    "labels = ['Label']\n",
    "X = extended_df[features]\n",
    "y = extended_df[labels]"
   ]
  },
  {
   "cell_type": "code",
   "execution_count": 20,
   "metadata": {},
   "outputs": [],
   "source": [
    "X_train, X_test, y_train, y_test = train_test_split(X, y, test_size=0.30)"
   ]
  },
  {
   "cell_type": "code",
   "execution_count": 21,
   "metadata": {},
   "outputs": [
    {
     "name": "stdout",
     "output_type": "stream",
     "text": [
      "Optimization terminated successfully.\n",
      "         Current function value: 0.522145\n",
      "         Iterations 7\n",
      "                                   Results: Logit\n",
      "=====================================================================================\n",
      "Model:                     Logit                  Pseudo R-squared:       0.245      \n",
      "Dependent Variable:        Label                  AIC:                    2934.6132  \n",
      "Date:                      2020-12-18 04:00       BIC:                    2993.9547  \n",
      "No. Observations:          2791                   Log-Likelihood:         -1457.3    \n",
      "Df Model:                  9                      LL-Null:                -1929.1    \n",
      "Df Residuals:              2781                   LLR p-value:            2.5435e-197\n",
      "Converged:                 1.0000                 Scale:                  1.0000     \n",
      "No. Iterations:            7.0000                                                    \n",
      "-------------------------------------------------------------------------------------\n",
      "                                      Coef.  Std.Err.    z     P>|z|   [0.025  0.975]\n",
      "-------------------------------------------------------------------------------------\n",
      "number_of_sentences                  -0.0038   0.0056  -0.6687 0.5037 -0.0148  0.0073\n",
      "number_of_words                      -0.0004   0.0004  -1.0807 0.2798 -0.0013  0.0004\n",
      "average_sentence_lenght               0.0788   0.0110   7.1388 0.0000  0.0572  0.1005\n",
      "average_word_lenght                  -1.0574   0.0872 -12.1210 0.0000 -1.2284 -0.8864\n",
      "nltk_sentiment                       -0.0453   0.2501  -0.1811 0.8563 -0.5355  0.4449\n",
      "subjectivity                         -5.5387   0.4038 -13.7169 0.0000 -6.3301 -4.7473\n",
      "number_of_future_verbs               -0.0883   0.0198  -4.4700 0.0000 -0.1270 -0.0496\n",
      "number_of_premise_conclusion_markers -0.0207   0.0608  -0.3401 0.7338 -0.1398  0.0985\n",
      "dictionary_percentage                 7.6431   0.4940  15.4727 0.0000  6.6749  8.6113\n",
      "number_of_discourse_markers           0.0180   0.0078   2.2988 0.0215  0.0027  0.0333\n",
      "=====================================================================================\n",
      "\n"
     ]
    }
   ],
   "source": [
    "logit_model = sm.Logit(y_train,X_train)\n",
    "result = logit_model.fit()\n",
    "print(result.summary2())"
   ]
  },
  {
   "cell_type": "code",
   "execution_count": 22,
   "metadata": {},
   "outputs": [
    {
     "name": "stderr",
     "output_type": "stream",
     "text": [
      "/home/oraziorillo/Programs/anaconda3/envs/ada/lib/python3.8/site-packages/sklearn/utils/validation.py:72: DataConversionWarning: A column-vector y was passed when a 1d array was expected. Please change the shape of y to (n_samples, ), for example using ravel().\n",
      "  return f(**kwargs)\n",
      "/home/oraziorillo/Programs/anaconda3/envs/ada/lib/python3.8/site-packages/sklearn/linear_model/_logistic.py:762: ConvergenceWarning: lbfgs failed to converge (status=1):\n",
      "STOP: TOTAL NO. of ITERATIONS REACHED LIMIT.\n",
      "\n",
      "Increase the number of iterations (max_iter) or scale the data as shown in:\n",
      "    https://scikit-learn.org/stable/modules/preprocessing.html\n",
      "Please also refer to the documentation for alternative solver options:\n",
      "    https://scikit-learn.org/stable/modules/linear_model.html#logistic-regression\n",
      "  n_iter_i = _check_optimize_result(\n"
     ]
    },
    {
     "data": {
      "text/plain": [
       "LogisticRegression()"
      ]
     },
     "execution_count": 22,
     "metadata": {},
     "output_type": "execute_result"
    }
   ],
   "source": [
    "logreg = LogisticRegression()\n",
    "logreg.fit(X_train, y_train)"
   ]
  },
  {
   "cell_type": "code",
   "execution_count": 23,
   "metadata": {},
   "outputs": [
    {
     "name": "stdout",
     "output_type": "stream",
     "text": [
      "Accuracy of logistic regression classifier on test set: 0.73\n"
     ]
    }
   ],
   "source": [
    "y_pred = logreg.predict(X_test)\n",
    "print('Accuracy of logistic regression classifier on test set: {:.2f}'.format(logreg.score(X_test, y_test)))"
   ]
  },
  {
   "cell_type": "code",
   "execution_count": 24,
   "metadata": {},
   "outputs": [
    {
     "data": {
      "text/plain": [
       "'              precision    recall  f1-score   support\\n\\n           0       0.82      0.63      0.71       637\\n           1       0.66      0.84      0.74       560\\n\\n    accuracy                           0.73      1197\\n   macro avg       0.74      0.73      0.73      1197\\nweighted avg       0.75      0.73      0.72      1197\\n'"
      ]
     },
     "execution_count": 24,
     "metadata": {},
     "output_type": "execute_result"
    }
   ],
   "source": [
    "classification_report(y_test, y_pred)"
   ]
  },
  {
   "cell_type": "markdown",
   "metadata": {},
   "source": [
    "### Step 3: Visualization\n",
    "\n",
    "For the visualization part, we want to make as clear as possible which of the individuated features has an effect on the label and which does not. To do that, we drew multiple categorical plot comparing the features' distributions in the fake news and in the actual articles."
   ]
  },
  {
   "cell_type": "code",
   "execution_count": 25,
   "metadata": {},
   "outputs": [
    {
     "data": {
      "image/png": "[encoded data removed]",
      "text/plain": [
       "<Figure size 432x288 with 1 Axes>"
      ]
     },
     "metadata": {
      "needs_background": "light"
     },
     "output_type": "display_data"
    }
   ],
   "source": [
    "logit_roc_auc = roc_auc_score(y_test, logreg.predict(X_test))\n",
    "fpr, tpr, thresholds = roc_curve(y_test, logreg.predict_proba(X_test)[:,1])\n",
    "plt.figure()\n",
    "plt.plot(fpr, tpr, label='Logistic Regression (area = %0.2f)' % logit_roc_auc)\n",
    "plt.plot([0, 1], [0, 1],'r--')\n",
    "plt.xlim([0.0, 1.0])\n",
    "plt.ylim([0.0, 1.05])\n",
    "plt.xlabel('False Positive Rate')\n",
    "plt.ylabel('True Positive Rate')\n",
    "plt.title('ROC Curve')\n",
    "plt.legend()\n",
    "plt.show()"
   ]
  },
  {
   "cell_type": "code",
   "execution_count": 28,
   "metadata": {},
   "outputs": [
    {
     "data": {
      "text/plain": [
       "Index(['number_of_sentences', 'number_of_words', 'average_sentence_lenght',\n",
       "       'average_word_lenght', 'nltk_sentiment', 'subjectivity',\n",
       "       'number_of_future_verbs', 'number_of_premise_conclusion_markers',\n",
       "       'dictionary_percentage', 'number_of_discourse_markers'],\n",
       "      dtype='object')"
      ]
     },
     "execution_count": 28,
     "metadata": {},
     "output_type": "execute_result"
    }
   ],
   "source": [
    "features_df.columns"
   ]
  },
  {
   "cell_type": "code",
   "execution_count": 29,
   "metadata": {},
   "outputs": [
    {
     "data": {
      "image/png": "[encoded data removed]",
      "text/plain": [
       "<Figure size 504x1008 with 10 Axes>"
      ]
     },
     "metadata": {
      "needs_background": "light"
     },
     "output_type": "display_data"
    }
   ],
   "source": [
    "# Draw a boxplot for each feature comparing real and fake news' distributions of the feature\n",
    "\n",
    "titles = ['Number of sentences', 'Number of words', 'Average sentence lenght',\n",
    "       'Average word lenght', 'Sentiment', 'Subjectivity', 'Number of future verbs',\n",
    "       'Number of premise\\nand conclusion markers', 'Percentage of words\\nin the dictionary',\n",
    "       'Number of discourse_markers']\n",
    "\n",
    "fig, axs = plt.subplots(5, 2, figsize=(7,14))\n",
    "\n",
    "for idx, feature in enumerate(features_df.columns):\n",
    "    axs[idx//2][idx%2].boxplot(x=[extended_df[extended_df.Label == 0][feature], \n",
    "              extended_df[extended_df.Label == 1][feature]], \n",
    "              bootstrap=1000, labels=['Fake articles', 'Real articles'], showfliers=False)\n",
    "    axs[idx//2][idx%2].set_title(titles[idx])\n",
    "    \n",
    "fig.tight_layout()"
   ]
  },
  {
   "cell_type": "code",
   "execution_count": 30,
   "metadata": {},
   "outputs": [
    {
     "data": {
      "image/png": "[encoded data removed]",
      "text/plain": [
       "<Figure size 576x360 with 2 Axes>"
      ]
     },
     "metadata": {
      "needs_background": "light"
     },
     "output_type": "display_data"
    }
   ],
   "source": [
    "# Computing the Correlation Matrix\n",
    "spike_cols = [col for col in features_df.columns]\n",
    "corr = features_df[spike_cols].corr()\n",
    "\n",
    "# Generate a mask for the upper triangle\n",
    "mask = np.triu(np.ones_like(corr, dtype=np.bool))\n",
    "\n",
    "# Set up the matplotlib figure\n",
    "f, ax = plt.subplots(figsize=(8, 5));\n",
    "\n",
    "# Generate a custom diverging colormap\n",
    "cmap = sns.diverging_palette(0, 15, as_cmap=True, s = 90, l = 45, n = 5)\n",
    "\n",
    "# Draw the heatmap with the mask and correct aspect ratio\n",
    "sns.heatmap(corr, mask=mask, cmap='coolwarm', vmax=1.0, center=0,\n",
    "            square=True, linewidths=.5, cbar_kws={\"shrink\": .5})\n",
    "\n",
    "plt.title('Correlation Heatmap', fontsize = 25)\n",
    "plt.xticks(fontsize = 10)\n",
    "plt.yticks(fontsize = 10);\n",
    "plt.savefig(\"Corr Heatmap.jpg\")"
   ]
  }
 ],
 "metadata": {
  "kernelspec": {
   "display_name": "Python 3",
   "language": "python",
   "name": "python3"
  },
  "language_info": {
   "codemirror_mode": {
    "name": "ipython",
    "version": 3
   },
   "file_extension": ".py",
   "mimetype": "text/x-python",
   "name": "python",
   "nbconvert_exporter": "python",
   "pygments_lexer": "ipython3",
   "version": "3.8.5"
  }
 },
 "nbformat": 4,
 "nbformat_minor": 4
}
