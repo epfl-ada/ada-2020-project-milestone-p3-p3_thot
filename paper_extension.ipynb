{
 "cells": [
  {
   "cell_type": "markdown",
   "metadata": {},
   "source": [
    "# Linguistic Harbinger of Fake News - Paper Extension\n",
    "\n",
    "In this extension, our goal is to explore whether the linguistic cues found in the original paper are suitable for a descriptive/predictive analysis in the context of fake news recognition."
   ]
  },
  {
   "cell_type": "code",
   "execution_count": 2,
   "metadata": {},
   "outputs": [
    {
     "name": "stderr",
     "output_type": "stream",
     "text": [
      "/home/oraziorillo/Programs/anaconda3/envs/ada/lib/python3.8/site-packages/tqdm/std.py:697: FutureWarning: The Panel class is removed from pandas. Accessing it from the top-level namespace will also be removed in the next version\n",
      "  from pandas import Panel\n"
     ]
    }
   ],
   "source": [
    "import pandas as pd\n",
    "import numpy as np\n",
    "import math\n",
    "import nltk\n",
    "import nltk.data\n",
    "import re\n",
    "import pickle\n",
    "import statsmodels.api as sm\n",
    "import matplotlib.pyplot as plt\n",
    "import seaborn as sns\n",
    "import torch\n",
    "from discourseMarkers import rule\n",
    "from nltk import word_tokenize\n",
    "from nltk import sentiment\n",
    "from nltk import pos_tag\n",
    "from nltk.sentiment.vader import SentimentIntensityAnalyzer\n",
    "from nltk.parse.corenlp import CoreNLPParser\n",
    "from nltk.tokenize import sent_tokenize\n",
    "from textblob import TextBlob\n",
    "from tqdm import tqdm\n",
    "from sklearn.model_selection import train_test_split\n",
    "from sklearn.preprocessing import MinMaxScaler\n",
    "from sklearn.linear_model import LogisticRegression\n",
    "from sklearn.metrics import classification_report\n",
    "from sklearn.metrics import roc_auc_score\n",
    "from sklearn.metrics import roc_curve\n",
    "from resources import lemmatizer, premise_conclusion_markers, english_dictionary, wordnet\n",
    "from transformers import BertTokenizer\n",
    "from sentiment_bert import SentimentBERT\n",
    "from sklearn.datasets import make_classification\n",
    "from sklearn.model_selection import KFold\n",
    "from sklearn.model_selection import cross_val_score\n",
    "from sklearn.linear_model import LogisticRegression\n",
    "from sklearn.preprocessing import StandardScaler\n",
    "from sklearn import svm\n",
    "from sklearn.pipeline import make_pipeline\n",
    "from sklearn import metrics\n",
    "\n",
    "# Create and register a new `tqdm` instance with `pandas`\n",
    "tqdm.pandas()"
   ]
  },
  {
   "cell_type": "markdown",
   "metadata": {},
   "source": [
    "### Step 0: the dataset\n",
    "\n",
    "The dataset that we are using in the following analysis has been downloaded from Kaggle at this [link](https://www.kaggle.com/jruvika/fake-news-detection).\n",
    "It is composed by 4009 entries of real of fake articles about different topics. Each entry specifies the source URLs of the article, its title, its body and a label that is 0 in case the news is fake and 1 otherwise.\n",
    "\n",
    "The dataset contains some articles with empty body. We decided to discard such articles since none of the features that we try to identify is meaningful if computed by using the title only.\n",
    "\n",
    "Note that even though the dataset contains the source URLs of the articles, they will not be used on purpose in the following analysis: our intention is to explore linguistic cues that characterize deception, not to distinguish trustworthy from untrustworty websites."
   ]
  },
  {
   "cell_type": "code",
   "execution_count": 3,
   "metadata": {},
   "outputs": [],
   "source": [
    "data_raw = pd.read_csv(\"data/data.csv\")\n",
    "data = data_raw.copy(deep = True).dropna().reset_index(drop=True)"
   ]
  },
  {
   "cell_type": "code",
   "execution_count": 4,
   "metadata": {},
   "outputs": [
    {
     "name": "stdout",
     "output_type": "stream",
     "text": [
      "<class 'pandas.core.frame.DataFrame'>\n",
      "RangeIndex: 3988 entries, 0 to 3987\n",
      "Data columns (total 4 columns):\n",
      " #   Column    Non-Null Count  Dtype \n",
      "---  ------    --------------  ----- \n",
      " 0   URLs      3988 non-null   object\n",
      " 1   Headline  3988 non-null   object\n",
      " 2   Body      3988 non-null   object\n",
      " 3   Label     3988 non-null   int64 \n",
      "dtypes: int64(1), object(3)\n",
      "memory usage: 124.8+ KB\n"
     ]
    }
   ],
   "source": [
    "data.info()"
   ]
  },
  {
   "cell_type": "markdown",
   "metadata": {},
   "source": [
    "### Step 1: Preprocessing and Feature Extraction \n",
    "\n",
    "Both preprocessing and feature extraction are performed by the same function: extract_linguisic_features, which first cleans the dataset and then applies the feature extractors. \n",
    "\n",
    "The first cleaning is very simple, since some of the feature extractors require the sentences to be plain text. Indeed, the only operation applied to all the sentences in the dataset has been to swap fullstop and ending quotes whenever they were found in the wrong order at the end of quoted sentence. Many times we were able to recognise the pattern '.”' in the articles; however, the correct order is: '”.'. This was a problem when we tried to split an artilce in subsentences. nltk's sentence tokenizer, in fact, does not recognize the end of a sentence all the times the mentioned pattern occurs.\n",
    "\n",
    "The features that we will try to identify for each article are the following ones:\n",
    " - number_of_sentences: number of sentences in the article, first split the article into sentences and then count them;\n",
    " - number_of_words: number of word tokens in the article (special characters, that are usually considered tokens by the nltk tokenizer, are discarded);\n",
    " - average_sentence_lenght: average lenght of the article's sentences, to compute it divide the total number of words by the number of sentences in the article;\n",
    " - average_word_lenght: average lenght of words in the article, computed by averaging the lenghts words in the article;\n",
    " - nltk_sentiment: numerical value that describes the sentiment of the article, computed using the Sentiment Intensity Analyzer by nltk;\n",
    " - nltk_sentiment: numerical value that describes the sentiment of the article, computed using the our fine-tuned BERT sentiment classifier;\n",
    " - subjectivity: numerical value that describes how much the article is subjective, computing using TextBlob;\n",
    " - number_of_premise_conclusion_markers: number of premise or conclusion markers in the article, computed by looking for specific markers taken from an handcrafted lexicon which takes ispiration form this online [resource](https://academic.csuohio.edu/polen/LC9_Help/1/11pcindicators.htm);\n",
    " - dictionary_percentage: percentage of words in the article that exist on the english dictionary in their lemmatized form, computed by first lemmatizing word tokens in the article, then searching them on the dictionary, and then take the percentage of them which is present on the vocabulary;\n",
    " - number_of_discourse_markers: number of argumentation/discourse markers of the article, computed by running a python script (that you can find in this folder) named discourse_markers.py, which requires the parse tree sentence representation given by Stanford parser.  \n",
    " "
   ]
  },
  {
   "cell_type": "code",
   "execution_count": 5,
   "metadata": {},
   "outputs": [],
   "source": [
    "def nltk_sentiment(text):\n",
    "    ''' \n",
    "    Compute the sentiment score of the text with NLTK\n",
    "    :param text: news article body\n",
    "    :returns: average sentiment score from each sentence\n",
    "    '''\n",
    "    score_compound = []\n",
    "\n",
    "    # prepare NLTK sentiment analyzer and tokenizer\n",
    "    sid = SentimentIntensityAnalyzer()\n",
    "    tokenizer = nltk.data.load('tokenizers/punkt/english.pickle')\n",
    "    sentences = tokenizer.tokenize(text)\n",
    "    \n",
    "    # loop through all sentence, compute the sentiment score and take average\n",
    "    for sentence in sentences:\n",
    "        scores = sid.polarity_scores(sentence)\n",
    "        score_compound.append(scores['compound'])\n",
    "\n",
    "    return np.mean(score_compound)"
   ]
  },
  {
   "cell_type": "code",
   "execution_count": 8,
   "metadata": {},
   "outputs": [],
   "source": [
    "# load the stored best performed SentimentBERT model \n",
    "model = SentimentBERT(3)\n",
    "model.load_state_dict(torch.load('models/best_model_sentbert.pt', map_location=torch.device('cpu')))\n",
    "\n",
    "def bert_sentiment(text):\n",
    "    ''' \n",
    "    Compute the sentiment score of the text with sentiment BERT\n",
    "    :param text: news article body\n",
    "    :returns: sentiment score \n",
    "    '''\n",
    "    # prepare counter of postive, neutral and negative sentences\n",
    "    pos_cnt, neu_cnt, neg_cnt = 0, 0, 0\n",
    "\n",
    "    # GPU Training setup\n",
    "    device = torch.device(\"cuda:0\" if torch.cuda.is_available() else \"cpu\")\n",
    "    tokenizer = BertTokenizer.from_pretrained('bert-base-cased')\n",
    "  \n",
    "    # Classify each sentence\n",
    "    for sent in text.split('.'):\n",
    "\n",
    "        # prepare BERT style encoder, same as used in training\n",
    "        encoded_review = tokenizer.encode_plus(\n",
    "        sent,\n",
    "        max_length=128,\n",
    "        add_special_tokens=True,\n",
    "        truncation=True,\n",
    "        return_token_type_ids=False,\n",
    "        pad_to_max_length=True,\n",
    "        return_attention_mask=True,\n",
    "        return_tensors='pt',\n",
    "        )\n",
    "\n",
    "    # extract input IDs and attention masks from the encoder and put it on GPU\n",
    "    input_ids = encoded_review['input_ids'].to(device)\n",
    "    attention_mask = encoded_review['attention_mask'].to(device)\n",
    "    \n",
    "    # pass into model and count predictions\n",
    "    output = model(input_ids, attention_mask)\n",
    "    _, prediction = torch.max(output, dim=1)\n",
    "\n",
    "    if int(prediction) == 0:\n",
    "        neg_cnt += 1\n",
    "    if int(prediction) == 1:\n",
    "        neu_cnt += 1\n",
    "    if int(prediction) == 2:\n",
    "        pos_cnt += 1\n",
    "  \n",
    "    return (pos_cnt - neg_cnt)/(pos_cnt + neu_cnt + neg_cnt)"
   ]
  },
  {
   "cell_type": "code",
   "execution_count": 9,
   "metadata": {},
   "outputs": [],
   "source": [
    "def subjectivity_score(text):\n",
    "    ''' Compute the subjectivity score of the text '''\n",
    "    return TextBlob(text).sentiment[1]"
   ]
  },
  {
   "cell_type": "code",
   "execution_count": 10,
   "metadata": {},
   "outputs": [],
   "source": [
    "def invert_quotes_fullstop(sentence):\n",
    "    ''' Substitute all the patterns '.”' with '”.' in the sentence '''\n",
    "    return sentence.replace('.”', '”.')"
   ]
  },
  {
   "cell_type": "code",
   "execution_count": 11,
   "metadata": {},
   "outputs": [],
   "source": [
    "def split_sentences(text):\n",
    "    ''' Split the text in its sub-sentences and return them as a list '''\n",
    "    sentences = []\n",
    "    # Split paragraphs on new line\n",
    "    for period in text.split(\"\\n\"):\n",
    "        # Further split paragraphs in sentences using nltk sentence tokenizer\n",
    "        for sentence in sent_tokenize(period):\n",
    "            sentences.append(sentence)\n",
    "    return sentences"
   ]
  },
  {
   "cell_type": "code",
   "execution_count": 12,
   "metadata": {},
   "outputs": [],
   "source": [
    "def count_future_verbs(sentence): \n",
    "    ''' Count the number of future tenses in the sentence '''\n",
    "    future_patterns = ['will', '\\'ll', 'going to', 'shall', 'about to']\n",
    "    return np.sum([sentence.count(substring) for substring in future_patterns])"
   ]
  },
  {
   "cell_type": "code",
   "execution_count": 13,
   "metadata": {},
   "outputs": [],
   "source": [
    "def count_premise_conclusion_markers(sentence):  \n",
    "    ''' Count the number of premise and conclusion markers in the sentence'''\n",
    "    counter = 0\n",
    "    # Look for markers in the hand-crafted lexicon\n",
    "    for marker in premise_conclusion_markers:\n",
    "        if sentence.find(marker) != -1:\n",
    "            counter += 1\n",
    "    return counter"
   ]
  },
  {
   "cell_type": "code",
   "execution_count": 14,
   "metadata": {},
   "outputs": [],
   "source": [
    "def get_wordnet_pos(treebank_tag):\n",
    "    '''\n",
    "    Helper function to convert a POS tag from the Penn Treebank to a WordNet format\n",
    "    :param treebank_tag: Penn Treebank POS tag, string\n",
    "    :returns: WordNet POS tag\n",
    "    '''\n",
    "\n",
    "    if treebank_tag.startswith(\"J\"):\n",
    "        return wordnet.ADJ\n",
    "    elif treebank_tag.startswith(\"V\"):\n",
    "        return wordnet.VERB\n",
    "    elif treebank_tag.startswith(\"N\"):\n",
    "        return wordnet.NOUN\n",
    "    elif treebank_tag.startswith(\"R\"):\n",
    "        return wordnet.ADV\n",
    "    else:\n",
    "        return wordnet.NOUN"
   ]
  },
  {
   "cell_type": "code",
   "execution_count": 15,
   "metadata": {},
   "outputs": [],
   "source": [
    "def lemmatize_words(words):\n",
    "    '''\n",
    "    Function to lemmatize word tokens using the WordNet lemmatizer\n",
    "    :param words: list of word tokens in the tweet\n",
    "    :returns: list of lemmatized word tokens\n",
    "    '''\n",
    "\n",
    "    lemmatized_words = []\n",
    "    # Get the Penn Treebank POS tags for the word tokens\n",
    "    word_pos_tags = pos_tag(words)\n",
    "    for word, word_pos_tag in word_pos_tags:\n",
    "        # Get the WordNet POS tag\n",
    "        word_pos_tag = get_wordnet_pos(word_pos_tag)\n",
    "        # Use the WordNet POS tag to lemmatize the word into the correct word form\n",
    "        lemmatized_words.append(lemmatizer.lemmatize(word, word_pos_tag))\n",
    "    return lemmatized_words"
   ]
  },
  {
   "cell_type": "code",
   "execution_count": 16,
   "metadata": {},
   "outputs": [],
   "source": [
    "def get_word_tokens(sentence):\n",
    "    '''\n",
    "    Function to retrieve only tokens corresponding to words (sequence of alphabetic characters)\n",
    "    :param sentence: string corresponding to an English sentence\n",
    "    :returns: parsed list of tokens with only word tokens\n",
    "    '''\n",
    "    tokens = word_tokenize(sentence)\n",
    "    return [token for token in tokens if re.match(r\"^[A-Za-z\\']+$\", token)]"
   ]
  },
  {
   "cell_type": "code",
   "execution_count": 17,
   "metadata": {},
   "outputs": [],
   "source": [
    "def parse_tree(sentence):\n",
    "    ''' \n",
    "    Create the parse tree for the given sentence \n",
    "    :param sentence: plain English sentence\n",
    "    :returns: nltk.Tree parse tree of the sentence\n",
    "    '''\n",
    "    parser = CoreNLPParser()\n",
    "    return next(parser.raw_parse(sentence))"
   ]
  },
  {
   "cell_type": "code",
   "execution_count": 18,
   "metadata": {},
   "outputs": [],
   "source": [
    "def percentage_words_in_dict(words):\n",
    "    ''' \n",
    "    Computes the percentage of words in words present on the English dictionary\n",
    "    :param words: list of words\n",
    "    :returns: percentage of words in words on the dictionary in their lemmatized form\n",
    "    '''\n",
    "    # Fill this list with the words whose lemma can be found on English dictionary\n",
    "    dictionary_words = [word for word in lemmatize_words(words) if word in english_dictionary]\n",
    "    num_dictionary_words = len(dictionary_words)\n",
    "    num_words = len(words)\n",
    "    dictionary_percentage = num_dictionary_words / num_words if num_words > 0 else 0\n",
    "    return dictionary_percentage"
   ]
  },
  {
   "cell_type": "code",
   "execution_count": 19,
   "metadata": {},
   "outputs": [],
   "source": [
    "def extract_linguisic_features(text):\n",
    "    ''' \n",
    "    Clean the text and then extract all the mentioned linguistic features from it,\n",
    "    organize them in a dictionary and return it\n",
    "    :param text: plain article text as a string\n",
    "    :returns: dictionary containing all the features of the given text  \n",
    "    '''\n",
    "    \n",
    "    features = dict()\n",
    "    \n",
    "    clean_text = invert_quotes_fullstop(text)\n",
    "    \n",
    "    sentences = split_sentences(clean_text)\n",
    "    words = get_word_tokens(clean_text)\n",
    "    \n",
    "    # Compute the total number of sentences\n",
    "    num_sentences = len(sentences)\n",
    "    features['number_of_sentences'] = num_sentences\n",
    "    \n",
    "    # Compute the number of words in the text\n",
    "    num_words = len(words)\n",
    "    features['number_of_words'] = num_words\n",
    "    \n",
    "    # Compute the average length of text's sentences\n",
    "    features['average_sentence_lenght'] = num_words / num_sentences \n",
    "    \n",
    "    # Compute the average lenght of the words in the text\n",
    "    features['average_word_lenght'] = np.mean([len(w) for w in words])\n",
    "    \n",
    "    # Compute the sentiment of the text with NLTK \n",
    "    features['nltk_sentiment'] = nltk_sentiment(clean_text)\n",
    "    \n",
    "    # Compute the sentiment of the text with BERT Sentiment Classifier\n",
    "    # Note: don't run on cpu\n",
    "    data['bert_sentment'] = bert(clean_text)\n",
    "\n",
    "    # Compute the subjectivity score \n",
    "    features['subjectivity'] = subjectivity_score(clean_text)\n",
    "    \n",
    "    # Compute the average number of verbs at future tense\n",
    "    features['average_number_of_future_verbs'] = count_future_verbs(clean_text) / num_sentences\n",
    "    \n",
    "    # Compute the average number of premise and conclusion markers\n",
    "    features['average_number_of_premise_conclusion_markers'] = count_premise_conclusion_markers(clean_text) / num_sentences\n",
    "    \n",
    "    # Compute the proportion of words belonging to the dictionary\n",
    "    features['dictionary_percentage'] = percentage_words_in_dict(words)\n",
    "    \n",
    "    return features"
   ]
  },
  {
   "cell_type": "markdown",
   "metadata": {},
   "source": [
    "The following cell has to be run only the first time. After that, the features' dataframe will be stored in a proper csv file and from that moment it can be instantly loaded by reading the csv."
   ]
  },
  {
   "cell_type": "code",
   "execution_count": 20,
   "metadata": {},
   "outputs": [],
   "source": [
    "try: \n",
    "    # Load the features' dataframe from the csv file if present\n",
    "    features_df = pd.read_csv(\"data/features.csv\") \n",
    "\n",
    "except FileNotFoundError:\n",
    "    \n",
    "    # Extract features from each article and put them in a dataframe\n",
    "    features_df = data.progress_apply(lambda x: pd.Series(extract_linguisic_features(x.Body)), axis=1)\n",
    "\n",
    "    # Load the pre-computed discourse markers list\n",
    "    with open('discourseMarkers.data', 'rb') as filehandle:\n",
    "        # read the data as binary data stream\n",
    "        discourse_markers = pickle.load(filehandle)\n",
    "\n",
    "    # Add a new column to the features dataframe \n",
    "    # containing the average number of discourse markers for each article\n",
    "    number_of_discourse_markers = pd.Series([len(l) for l in discourse_markers])\n",
    "    features_df['average_number_of_discourse_markers'] = number_of_discourse_markers / features_df['number_of_sentences']\n",
    "    \n",
    "    # Store the dataframe \n",
    "    features_df.to_csv(\"data/features.csv\", index=False)"
   ]
  },
  {
   "cell_type": "code",
   "execution_count": 21,
   "metadata": {},
   "outputs": [],
   "source": [
    "# Merge the original dataframe with the new features\n",
    "data = data.merge(features_df, right_index=True, left_index=True)"
   ]
  },
  {
   "cell_type": "code",
   "execution_count": 22,
   "metadata": {},
   "outputs": [
    {
     "data": {
      "text/html": [
       "<div>\n",
       "<style scoped>\n",
       "    .dataframe tbody tr th:only-of-type {\n",
       "        vertical-align: middle;\n",
       "    }\n",
       "\n",
       "    .dataframe tbody tr th {\n",
       "        vertical-align: top;\n",
       "    }\n",
       "\n",
       "    .dataframe thead th {\n",
       "        text-align: right;\n",
       "    }\n",
       "</style>\n",
       "<table border=\"1\" class=\"dataframe\">\n",
       "  <thead>\n",
       "    <tr style=\"text-align: right;\">\n",
       "      <th></th>\n",
       "      <th>URLs</th>\n",
       "      <th>Headline</th>\n",
       "      <th>Body</th>\n",
       "      <th>Label</th>\n",
       "      <th>number_of_sentences</th>\n",
       "      <th>number_of_words</th>\n",
       "      <th>average_sentence_lenght</th>\n",
       "      <th>average_word_lenght</th>\n",
       "      <th>nltk_sentiment</th>\n",
       "      <th>subjectivity</th>\n",
       "      <th>average_number_of_future_verbs</th>\n",
       "      <th>average_number_of_premise_conclusion_markers</th>\n",
       "      <th>dictionary_percentage</th>\n",
       "      <th>average_number_of_discourse_markers</th>\n",
       "      <th>bert_sentiment</th>\n",
       "    </tr>\n",
       "  </thead>\n",
       "  <tbody>\n",
       "    <tr>\n",
       "      <th>0</th>\n",
       "      <td>http://www.bbc.com/news/world-us-canada-414191...</td>\n",
       "      <td>Four ways Bob Corker skewered Donald Trump</td>\n",
       "      <td>Image copyright Getty Images\\nOn Sunday mornin...</td>\n",
       "      <td>1</td>\n",
       "      <td>56.0</td>\n",
       "      <td>1081.0</td>\n",
       "      <td>19.303571</td>\n",
       "      <td>4.719704</td>\n",
       "      <td>-0.055431</td>\n",
       "      <td>0.45786</td>\n",
       "      <td>0.107143</td>\n",
       "      <td>0.071429</td>\n",
       "      <td>0.823312</td>\n",
       "      <td>0.839286</td>\n",
       "      <td>-0.653846</td>\n",
       "    </tr>\n",
       "  </tbody>\n",
       "</table>\n",
       "</div>"
      ],
      "text/plain": [
       "                                                URLs  \\\n",
       "0  http://www.bbc.com/news/world-us-canada-414191...   \n",
       "\n",
       "                                     Headline  \\\n",
       "0  Four ways Bob Corker skewered Donald Trump   \n",
       "\n",
       "                                                Body  Label  \\\n",
       "0  Image copyright Getty Images\\nOn Sunday mornin...      1   \n",
       "\n",
       "   number_of_sentences  number_of_words  average_sentence_lenght  \\\n",
       "0                 56.0           1081.0                19.303571   \n",
       "\n",
       "   average_word_lenght  nltk_sentiment  subjectivity  \\\n",
       "0             4.719704       -0.055431       0.45786   \n",
       "\n",
       "   average_number_of_future_verbs  \\\n",
       "0                        0.107143   \n",
       "\n",
       "   average_number_of_premise_conclusion_markers  dictionary_percentage  \\\n",
       "0                                      0.071429               0.823312   \n",
       "\n",
       "   average_number_of_discourse_markers  bert_sentiment  \n",
       "0                             0.839286       -0.653846  "
      ]
     },
     "execution_count": 22,
     "metadata": {},
     "output_type": "execute_result"
    }
   ],
   "source": [
    "data.head(1)"
   ]
  },
  {
   "cell_type": "markdown",
   "metadata": {},
   "source": [
    "### Step 2: Explorotary Data Analysis\n",
    "\n",
    "TODO: talk about logistic reg\n",
    "\n",
    "For the visualization part, we want to make as clear as possible which of the individuated features might have an effect on the label of the article and which does not. To do that, we draw multiple categorical plot comparing the features' distributions in the fake news and in the actual articles.\n",
    "\n",
    "After that, we plot the Correlation Heatmap of the computed features with the purpose of revealing any possible deterministic relation among them."
   ]
  },
  {
   "cell_type": "code",
   "execution_count": 23,
   "metadata": {},
   "outputs": [],
   "source": [
    "features = list(features_df.columns)\n",
    "labels = ['Label']\n",
    "X = data[features]\n",
    "y = data[labels]"
   ]
  },
  {
   "cell_type": "code",
   "execution_count": 24,
   "metadata": {},
   "outputs": [],
   "source": [
    "X_train, X_test, y_train, y_test = train_test_split(X, y, test_size=0.30)"
   ]
  },
  {
   "cell_type": "code",
   "execution_count": 25,
   "metadata": {},
   "outputs": [
    {
     "name": "stdout",
     "output_type": "stream",
     "text": [
      "Optimization terminated successfully.\n",
      "         Current function value: 0.473788\n",
      "         Iterations 8\n",
      "                                       Results: Logit\n",
      "=============================================================================================\n",
      "Model:                       Logit                     Pseudo R-squared:          0.315      \n",
      "Dependent Variable:          Label                     AIC:                       2666.6863  \n",
      "Date:                        2020-12-18 20:37          BIC:                       2731.9620  \n",
      "No. Observations:            2791                      Log-Likelihood:            -1322.3    \n",
      "Df Model:                    10                        LL-Null:                   -1929.9    \n",
      "Df Residuals:                2780                      LLR p-value:               7.7007e-255\n",
      "Converged:                   1.0000                    Scale:                     1.0000     \n",
      "No. Iterations:              8.0000                                                          \n",
      "---------------------------------------------------------------------------------------------\n",
      "                                              Coef.  Std.Err.    z     P>|z|   [0.025  0.975]\n",
      "---------------------------------------------------------------------------------------------\n",
      "number_of_sentences                           0.0133   0.0057   2.3151 0.0206  0.0020  0.0246\n",
      "number_of_words                              -0.0008   0.0004  -2.3230 0.0202 -0.0015 -0.0001\n",
      "average_sentence_lenght                       0.0882   0.0162   5.4315 0.0000  0.0564  0.1200\n",
      "average_word_lenght                          -0.8528   0.0853 -10.0015 0.0000 -1.0199 -0.6857\n",
      "nltk_sentiment                                1.8348   0.3000   6.1150 0.0000  1.2467  2.4228\n",
      "subjectivity                                 -6.9142   0.4409 -15.6839 0.0000 -7.7783 -6.0502\n",
      "average_number_of_future_verbs               -0.8578   0.5512  -1.5563 0.1196 -1.9380  0.2225\n",
      "average_number_of_premise_conclusion_markers  0.8220   0.1977   4.1586 0.0000  0.4346  1.2094\n",
      "dictionary_percentage                         6.1706   0.4763  12.9563 0.0000  5.2371  7.1040\n",
      "average_number_of_discourse_markers           0.5343   0.2484   2.1512 0.0315  0.0475  1.0211\n",
      "bert_sentiment                               -2.0273   0.1380 -14.6870 0.0000 -2.2978 -1.7567\n",
      "=============================================================================================\n",
      "\n"
     ]
    }
   ],
   "source": [
    "logit_model = sm.Logit(y_train,X_train)\n",
    "result = logit_model.fit()\n",
    "print(result.summary2())"
   ]
  },
  {
   "cell_type": "code",
   "execution_count": 26,
   "metadata": {},
   "outputs": [
    {
     "data": {
      "image/png": "[encoded data removed]",
      "text/plain": [
       "<Figure size 720x1008 with 12 Axes>"
      ]
     },
     "metadata": {
      "needs_background": "light"
     },
     "output_type": "display_data"
    }
   ],
   "source": [
    "# Draw a boxplot for each feature comparing real and fake news' distributions of the feature\n",
    "\n",
    "titles = ['Number of sentences', 'Number of words', 'Average sentence lenght',\n",
    "       'Average word lenght', 'NLTK Sentiment', 'Subjectivity', 'Average number\\nof future verbs',\n",
    "       'Average number of premise\\nand conclusion markers', 'Percentage of words\\nin the dictionary',\n",
    "       'Average number\\nof discourse_markers', 'BERT sentiment']\n",
    "\n",
    "fig, axs = plt.subplots(4, 3, figsize=(10,14))\n",
    "\n",
    "for idx, feature in enumerate(features_df.columns):\n",
    "    axs[idx//3][idx%3].boxplot(x=[data[data.Label == 0][feature], \n",
    "              data[data.Label == 1][feature]], \n",
    "              bootstrap=1000, labels=['Fake articles', 'Real articles'], showfliers=False)\n",
    "    axs[idx//3][idx%3].set_title(titles[idx])\n",
    "\n",
    "# The last plot is not used, hide it\n",
    "axs[3, 2].set_visible(False)\n",
    "    \n",
    "fig.tight_layout()\n",
    "plt.show()"
   ]
  },
  {
   "cell_type": "code",
   "execution_count": 27,
   "metadata": {},
   "outputs": [],
   "source": [
    "# Create features and labels for training\n",
    "features = list(features_df.columns)\n",
    "labels = ['Label']"
   ]
  },
  {
   "cell_type": "code",
   "execution_count": 30,
   "metadata": {},
   "outputs": [
    {
     "data": {
      "image/png": "[encoded data removed]",
      "text/plain": [
       "<Figure size 720x720 with 2 Axes>"
      ]
     },
     "metadata": {
      "needs_background": "light"
     },
     "output_type": "display_data"
    }
   ],
   "source": [
    "# Computing the Correlation Matrix\n",
    "corr = data[features].corr()\n",
    "\n",
    "# Generate a mask for the upper triangle\n",
    "mask = np.triu(np.ones_like(corr, dtype=np.bool))\n",
    "\n",
    "# Set up the matplotlib figure\n",
    "f, ax = plt.subplots(figsize=(10, 10));\n",
    "\n",
    "# Generate a custom diverging colormap\n",
    "cmap = sns.diverging_palette(0, 15, as_cmap=True, s = 90, l = 45, n = 5)\n",
    "\n",
    "# Draw the heatmap with the mask and correct aspect ratio\n",
    "sns.heatmap(corr, mask=mask, cmap='coolwarm', vmax=1.0, center=0,\n",
    "            square=True, linewidths=.5, cbar_kws={\"shrink\": .5})\n",
    "\n",
    "plt.title('Correlation Heatmap', fontsize = 25)\n",
    "plt.xticks(fontsize = 10)\n",
    "plt.yticks(fontsize = 10);\n",
    "plt.tight_layout()\n",
    "plt.savefig(\"figures/corr_heatmap.eps\", format='eps')"
   ]
  },
  {
   "cell_type": "markdown",
   "metadata": {},
   "source": [
    "### Discussion\n",
    "As we can see from the correlation heatmap, the only features that are entirely determined one by the other are not surprisingly the number of words and the number of sentences in the article. Another correlation that one may expect is the one between the average number of discourse makers and the average number of sentences in an article. Ideed, the longer the period is, the more discourse markes one needs to link the simple sentences.\n",
    "\n",
    "Another maybe relevant correlation we can notice, is the one between percentage of words in the English dictionary and average sentence lenght. The intuitive explaination we came up with about this fact is that, on average, a real journalist, which tends in general to use more dictionary words than a fake news disseminator, wants to tell a story and so has something to talk about in details. On the other hand, every fictional particular added to a fake news may unveil its deceptive intention.\n",
    "\n",
    "In a previous version of the notebook, this plot helped us finding out that we had a correlation between the discourse markers feature and the number of sentences/number of words. This simply happened because the old feature was obtained by computing the raw number of discourse markers in the article, which is of course stricly correlated to the number of words in the article. The more the words, the more the discourse markers. So we byepassed this \"problem\" by dividing the number of discourse markers in the article by the number of sentences, by eventually obtaining the average number of discourse markers per sentence."
   ]
  },
  {
   "cell_type": "markdown",
   "metadata": {},
   "source": [
    "### Step 3: Modelling\n",
    "\n",
    "In this section we provided two modeling approaches, one logisticregression and one SVM classifier. For the logistic regression model, we use 5-fold cross validation to maintain consistency from the paper. We also included ROC curve plots for the two models.  "
   ]
  },
  {
   "cell_type": "code",
   "execution_count": null,
   "metadata": {},
   "outputs": [],
   "source": [
    "X = data[features]\n",
    "y = data[labels]\n",
    "\n",
    "# normalize dataset\n",
    "scaler = StandardScaler()\n",
    "scaler.fit(X)\n",
    "X = scaler.transform(X)\n",
    "\n",
    "X_train, X_test, y_train, y_test = train_test_split(X, y, test_size=0.20)"
   ]
  },
  {
   "cell_type": "code",
   "execution_count": null,
   "metadata": {},
   "outputs": [],
   "source": [
    "# Logistic Regression \n",
    "# prepare the cross-validation procedure\n",
    "cv = KFold(n_splits=5, random_state=1, shuffle=True)\n",
    "# create model\n",
    "model = LogisticRegression()\n",
    "# evaluate model\n",
    "scores = cross_val_score(model, X, y, scoring='accuracy', cv=cv, n_jobs=-1)\n",
    "# report performance\n",
    "print('Accuracy: %.3f (%.3f)' % (np.mean(scores), np.std(scores)))"
   ]
  },
  {
   "cell_type": "code",
   "execution_count": null,
   "metadata": {},
   "outputs": [],
   "source": [
    "# Logistic Regression ROC plot\n",
    "\n",
    "model.fit(X_train, y_train)\n",
    "\n",
    "logit_roc_auc = roc_auc_score(y_test, model.predict(X_test))\n",
    "fpr, tpr, thresholds = roc_curve(y_test, model.predict_proba(X_test)[:,1])\n",
    "plt.figure()\n",
    "plt.plot(fpr, tpr, label='Logistic Regression (area = %0.2f)' % logit_roc_auc)\n",
    "plt.plot([0, 1], [0, 1],'r--')\n",
    "plt.xlim([0.0, 1.0])\n",
    "plt.ylim([0.0, 1.05])\n",
    "plt.xlabel('False Positive Rate')\n",
    "plt.ylabel('True Positive Rate')\n",
    "plt.title('ROC Curve Logistic Regression')\n",
    "plt.legend()\n",
    "plt.show()"
   ]
  },
  {
   "cell_type": "code",
   "execution_count": null,
   "metadata": {},
   "outputs": [],
   "source": [
    "# Logistic Regression Model Summary\n",
    "\n",
    "logit_model=sm.Logit(y_train,X_train)\n",
    "result=logit_model.fit()\n",
    "print(result.summary())"
   ]
  },
  {
   "cell_type": "code",
   "execution_count": null,
   "metadata": {},
   "outputs": [],
   "source": [
    "# SVM Classifier\n",
    "\n",
    "#Create a svm Classifier\n",
    "clf = svm.SVC(kernel='rbf', decision_function_shape = 'ovo') \n",
    "clf = make_pipeline(StandardScaler(), clf)\n",
    "\n",
    "#Train the model using the training sets\n",
    "clf.fit(X_train, y_train)\n",
    "\n",
    "#Predict the response for test dataset\n",
    "y_pred = clf.predict(X_test)\n",
    "\n",
    "# Model Accuracy: how often is the classifier correct?\n",
    "print(\"Accuracy:\",metrics.accuracy_score(y_test, y_pred))\n",
    "\n",
    "# Model Precision: what percentage of positive tuples are labeled as such?\n",
    "print(\"Precision:\",metrics.precision_score(y_test, y_pred))\n",
    "\n",
    "# Model Recall: what percentage of positive tuples are labelled as such?\n",
    "print(\"Recall:\",metrics.recall_score(y_test, y_pred))"
   ]
  },
  {
   "cell_type": "code",
   "execution_count": null,
   "metadata": {},
   "outputs": [],
   "source": [
    "# SVM ROC plot\n",
    "\n",
    "svm_roc_auc = roc_auc_score(y_test, y_pred)\n",
    "fpr, tpr, thresholds = roc_curve(y_test, y_pred)\n",
    "plt.figure()\n",
    "plt.plot(fpr, tpr, label='SVM (area = %0.2f)' % svm_roc_auc)\n",
    "plt.plot([0, 1], [0, 1],'r--')\n",
    "plt.xlim([0.0, 1.0])\n",
    "plt.ylim([0.0, 1.05])\n",
    "plt.xlabel('False Positive Rate')\n",
    "plt.ylabel('True Positive Rate')\n",
    "plt.title('ROC Curve SVM')\n",
    "plt.legend()\n",
    "plt.show()"
   ]
  }
 ],
 "metadata": {
  "kernelspec": {
   "display_name": "Python 3",
   "language": "python",
   "name": "python3"
  },
  "language_info": {
   "codemirror_mode": {
    "name": "ipython",
    "version": 3
   },
   "file_extension": ".py",
   "mimetype": "text/x-python",
   "name": "python",
   "nbconvert_exporter": "python",
   "pygments_lexer": "ipython3",
   "version": "3.8.5"
  }
 },
 "nbformat": 4,
 "nbformat_minor": 4
}
