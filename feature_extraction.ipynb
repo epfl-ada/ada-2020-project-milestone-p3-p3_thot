{
 "cells": [
  {
   "cell_type": "code",
   "execution_count": 7,
   "metadata": {},
   "outputs": [],
   "source": [
    "import pandas as pd\n",
    "import numpy as np\n",
    "import matplotlib.pyplot as plt"
   ]
  },
  {
   "cell_type": "code",
   "execution_count": 103,
   "metadata": {},
   "outputs": [],
   "source": [
    "data_raw = pd.read_csv('data/data.csv')\n",
    "features_raw = pd.read_csv('data/features.csv')\n",
    "data = data_raw.copy(deep = True).dropna()\n",
    "features = features_raw.copy(deep = True)"
   ]
  },
  {
   "cell_type": "code",
   "execution_count": 86,
   "metadata": {},
   "outputs": [
    {
     "output_type": "stream",
     "name": "stdout",
     "text": [
      "<class 'pandas.core.frame.DataFrame'>\nInt64Index: 3988 entries, 0 to 4008\nData columns (total 4 columns):\n #   Column    Non-Null Count  Dtype \n---  ------    --------------  ----- \n 0   URLs      3988 non-null   object\n 1   Headline  3988 non-null   object\n 2   Body      3988 non-null   object\n 3   Label     3988 non-null   int64 \ndtypes: int64(1), object(3)\nmemory usage: 155.8+ KB\n"
     ]
    }
   ],
   "source": [
    "data.info()"
   ]
  },
  {
   "cell_type": "code",
   "execution_count": 87,
   "metadata": {},
   "outputs": [
    {
     "output_type": "stream",
     "name": "stdout",
     "text": [
      "<class 'pandas.core.frame.DataFrame'>\nRangeIndex: 4009 entries, 0 to 4008\nData columns (total 7 columns):\n #   Column                                Non-Null Count  Dtype  \n---  ------                                --------------  -----  \n 0   number_of_future_verbs                3988 non-null   float64\n 1   number_of_premise_conclusion_markers  3988 non-null   float64\n 2   number_of_sentences                   3988 non-null   float64\n 3   average_sentence_lenght               3988 non-null   float64\n 4   number_of_words                       3988 non-null   float64\n 5   average_word_lenght                   3988 non-null   float64\n 6   dictionary_percentage                 3988 non-null   float64\ndtypes: float64(7)\nmemory usage: 219.4 KB\n"
     ]
    }
   ],
   "source": [
    "features.info()"
   ]
  },
  {
   "cell_type": "markdown",
   "metadata": {},
   "source": [
    "### Sentiment Feature Extraction \n",
    "\n",
    "#TODO: Try dl"
   ]
  },
  {
   "cell_type": "code",
   "execution_count": 99,
   "metadata": {
    "scrolled": false
   },
   "outputs": [],
   "source": [
    "import nltk.data\n",
    "from nltk.sentiment.vader import SentimentIntensityAnalyzer\n",
    "from nltk import sentiment\n",
    "from nltk import word_tokenize\n",
    "\n",
    "# nltk.download('vader_lexicon')\n",
    "# nltk.download('punkt')\n",
    "\n",
    "def nltk_sentiment(text):\n",
    "    score_compound = []\n",
    "    sid = SentimentIntensityAnalyzer()\n",
    "    tokenizer = nltk.data.load('tokenizers/punkt/english.pickle')\n",
    "    try:\n",
    "        sentences = tokenizer.tokenize(text)\n",
    "    except:\n",
    "        print(text)\n",
    "    for sentence in sentences:\n",
    "            scores = sid.polarity_scores(sentence)\n",
    "            score_compound.append(scores['compound'])\n",
    "\n",
    "    return np.mean(score_compound)\n"
   ]
  },
  {
   "cell_type": "code",
   "execution_count": 100,
   "metadata": {},
   "outputs": [],
   "source": [
    "from textblob import TextBlob\n",
    "\n",
    "def subjectivity_score(text):\n",
    "    return TextBlob(text).sentiment[1]"
   ]
  },
  {
   "cell_type": "code",
   "execution_count": 101,
   "metadata": {},
   "outputs": [],
   "source": [
    "def num_sentences(text):\n",
    "    try:\n",
    "        return len(text.split('.'))\n",
    "    except:\n",
    "        print(text)\n",
    "def avg_num_words(text):\n",
    "    num_sentence = num_sentences(text)\n",
    "    return round(len(text.split())/num_sentence, 2)"
   ]
  },
  {
   "cell_type": "code",
   "execution_count": 12,
   "metadata": {},
   "outputs": [],
   "source": [
    "from transformers import BertTokenizer\n",
    "from sentiment_bert import SentimentBERT\n",
    "import torch\n",
    "\n",
    "model = SentimentBERT(3)\n",
    "model.load_state_dict(torch.load('models/state_dict_sentbert.pt', map_location=torch.device('cpu')))\n",
    "# model.eval()\n",
    "\n",
    "def bert_sentiment(text):\n",
    "  pos_cnt, neu_cnt, neg_cnt = 0, 0, 0\n",
    "  device = torch.device(\"cuda:0\" if torch.cuda.is_available() else \"cpu\")\n",
    "  tokenizer = BertTokenizer.from_pretrained('bert-base-cased')\n",
    "\n",
    "  for sent in text.split('.'):\n",
    "    encoded_review = tokenizer.encode_plus(\n",
    "      sent,\n",
    "      max_length=128,\n",
    "      add_special_tokens=True,\n",
    "      truncation=True,\n",
    "      return_token_type_ids=False,\n",
    "      pad_to_max_length=True,\n",
    "      return_attention_mask=True,\n",
    "      return_tensors='pt',\n",
    "    )\n",
    "\n",
    "    input_ids = encoded_review['input_ids'].to(device)\n",
    "    attention_mask = encoded_review['attention_mask'].to(device)\n",
    "\n",
    "    output = model(input_ids, attention_mask)\n",
    "    _, prediction = torch.max(output, dim=1)\n",
    "\n",
    "    if int(prediction) == 0:\n",
    "      neg_cnt += 1\n",
    "    if int(prediction) == 1:\n",
    "      neu_cnt += 1\n",
    "    if int(prediction) == 2:\n",
    "      pos_cnt += 1\n",
    "  \n",
    "  return (pos_cnt - neg_cnt)/(pos_cnt + neu_cnt + neg_cnt)"
   ]
  },
  {
   "cell_type": "code",
   "execution_count": 104,
   "metadata": {},
   "outputs": [],
   "source": [
    "data['nltk_sentiment'] = data.Body.apply(nltk_sentiment)\n",
    "# data['bert_sentment'] = data.Body.apply(bert_sentiment)\n",
    "data['subjectivity'] = data.Body.apply(subjectivity_score)\n",
    "data['num_sent'] = data.Body.apply(num_sentences)\n",
    "data['avg_num_words'] = data.Body.apply(avg_num_words)"
   ]
  },
  {
   "cell_type": "code",
   "execution_count": 108,
   "metadata": {},
   "outputs": [
    {
     "output_type": "execute_result",
     "data": {
      "text/plain": [
       "Empty DataFrame\n",
       "Columns: [URLs, Headline, Body, Label, subjectivity, sentiment, num_sent, avg_num_words]\n",
       "Index: []"
      ],
      "text/html": "<div>\n<style scoped>\n    .dataframe tbody tr th:only-of-type {\n        vertical-align: middle;\n    }\n\n    .dataframe tbody tr th {\n        vertical-align: top;\n    }\n\n    .dataframe thead th {\n        text-align: right;\n    }\n</style>\n<table border=\"1\" class=\"dataframe\">\n  <thead>\n    <tr style=\"text-align: right;\">\n      <th></th>\n      <th>URLs</th>\n      <th>Headline</th>\n      <th>Body</th>\n      <th>Label</th>\n      <th>subjectivity</th>\n      <th>sentiment</th>\n      <th>num_sent</th>\n      <th>avg_num_words</th>\n    </tr>\n  </thead>\n  <tbody>\n  </tbody>\n</table>\n</div>"
     },
     "metadata": {},
     "execution_count": 108
    }
   ],
   "source": [
    "data[data.isna().any(axis=1)]"
   ]
  },
  {
   "cell_type": "code",
   "execution_count": 107,
   "metadata": {},
   "outputs": [
    {
     "output_type": "execute_result",
     "data": {
      "text/plain": [
       "      number_of_future_verbs  number_of_premise_conclusion_markers  \\\n",
       "247                      NaN                                   NaN   \n",
       "269                      NaN                                   NaN   \n",
       "325                      NaN                                   NaN   \n",
       "395                      NaN                                   NaN   \n",
       "509                      NaN                                   NaN   \n",
       "882                      NaN                                   NaN   \n",
       "973                      NaN                                   NaN   \n",
       "981                      NaN                                   NaN   \n",
       "1006                     NaN                                   NaN   \n",
       "1133                     NaN                                   NaN   \n",
       "1210                     NaN                                   NaN   \n",
       "1500                     NaN                                   NaN   \n",
       "1785                     NaN                                   NaN   \n",
       "2254                     NaN                                   NaN   \n",
       "2302                     NaN                                   NaN   \n",
       "2709                     NaN                                   NaN   \n",
       "2959                     NaN                                   NaN   \n",
       "3108                     NaN                                   NaN   \n",
       "3316                     NaN                                   NaN   \n",
       "3377                     NaN                                   NaN   \n",
       "4006                     NaN                                   NaN   \n",
       "\n",
       "      number_of_sentences  average_sentence_lenght  number_of_words  \\\n",
       "247                   NaN                      NaN              NaN   \n",
       "269                   NaN                      NaN              NaN   \n",
       "325                   NaN                      NaN              NaN   \n",
       "395                   NaN                      NaN              NaN   \n",
       "509                   NaN                      NaN              NaN   \n",
       "882                   NaN                      NaN              NaN   \n",
       "973                   NaN                      NaN              NaN   \n",
       "981                   NaN                      NaN              NaN   \n",
       "1006                  NaN                      NaN              NaN   \n",
       "1133                  NaN                      NaN              NaN   \n",
       "1210                  NaN                      NaN              NaN   \n",
       "1500                  NaN                      NaN              NaN   \n",
       "1785                  NaN                      NaN              NaN   \n",
       "2254                  NaN                      NaN              NaN   \n",
       "2302                  NaN                      NaN              NaN   \n",
       "2709                  NaN                      NaN              NaN   \n",
       "2959                  NaN                      NaN              NaN   \n",
       "3108                  NaN                      NaN              NaN   \n",
       "3316                  NaN                      NaN              NaN   \n",
       "3377                  NaN                      NaN              NaN   \n",
       "4006                  NaN                      NaN              NaN   \n",
       "\n",
       "      average_word_lenght  dictionary_percentage  \n",
       "247                   NaN                    NaN  \n",
       "269                   NaN                    NaN  \n",
       "325                   NaN                    NaN  \n",
       "395                   NaN                    NaN  \n",
       "509                   NaN                    NaN  \n",
       "882                   NaN                    NaN  \n",
       "973                   NaN                    NaN  \n",
       "981                   NaN                    NaN  \n",
       "1006                  NaN                    NaN  \n",
       "1133                  NaN                    NaN  \n",
       "1210                  NaN                    NaN  \n",
       "1500                  NaN                    NaN  \n",
       "1785                  NaN                    NaN  \n",
       "2254                  NaN                    NaN  \n",
       "2302                  NaN                    NaN  \n",
       "2709                  NaN                    NaN  \n",
       "2959                  NaN                    NaN  \n",
       "3108                  NaN                    NaN  \n",
       "3316                  NaN                    NaN  \n",
       "3377                  NaN                    NaN  \n",
       "4006                  NaN                    NaN  "
      ],
      "text/html": "<div>\n<style scoped>\n    .dataframe tbody tr th:only-of-type {\n        vertical-align: middle;\n    }\n\n    .dataframe tbody tr th {\n        vertical-align: top;\n    }\n\n    .dataframe thead th {\n        text-align: right;\n    }\n</style>\n<table border=\"1\" class=\"dataframe\">\n  <thead>\n    <tr style=\"text-align: right;\">\n      <th></th>\n      <th>number_of_future_verbs</th>\n      <th>number_of_premise_conclusion_markers</th>\n      <th>number_of_sentences</th>\n      <th>average_sentence_lenght</th>\n      <th>number_of_words</th>\n      <th>average_word_lenght</th>\n      <th>dictionary_percentage</th>\n    </tr>\n  </thead>\n  <tbody>\n    <tr>\n      <th>247</th>\n      <td>NaN</td>\n      <td>NaN</td>\n      <td>NaN</td>\n      <td>NaN</td>\n      <td>NaN</td>\n      <td>NaN</td>\n      <td>NaN</td>\n    </tr>\n    <tr>\n      <th>269</th>\n      <td>NaN</td>\n      <td>NaN</td>\n      <td>NaN</td>\n      <td>NaN</td>\n      <td>NaN</td>\n      <td>NaN</td>\n      <td>NaN</td>\n    </tr>\n    <tr>\n      <th>325</th>\n      <td>NaN</td>\n      <td>NaN</td>\n      <td>NaN</td>\n      <td>NaN</td>\n      <td>NaN</td>\n      <td>NaN</td>\n      <td>NaN</td>\n    </tr>\n    <tr>\n      <th>395</th>\n      <td>NaN</td>\n      <td>NaN</td>\n      <td>NaN</td>\n      <td>NaN</td>\n      <td>NaN</td>\n      <td>NaN</td>\n      <td>NaN</td>\n    </tr>\n    <tr>\n      <th>509</th>\n      <td>NaN</td>\n      <td>NaN</td>\n      <td>NaN</td>\n      <td>NaN</td>\n      <td>NaN</td>\n      <td>NaN</td>\n      <td>NaN</td>\n    </tr>\n    <tr>\n      <th>882</th>\n      <td>NaN</td>\n      <td>NaN</td>\n      <td>NaN</td>\n      <td>NaN</td>\n      <td>NaN</td>\n      <td>NaN</td>\n      <td>NaN</td>\n    </tr>\n    <tr>\n      <th>973</th>\n      <td>NaN</td>\n      <td>NaN</td>\n      <td>NaN</td>\n      <td>NaN</td>\n      <td>NaN</td>\n      <td>NaN</td>\n      <td>NaN</td>\n    </tr>\n    <tr>\n      <th>981</th>\n      <td>NaN</td>\n      <td>NaN</td>\n      <td>NaN</td>\n      <td>NaN</td>\n      <td>NaN</td>\n      <td>NaN</td>\n      <td>NaN</td>\n    </tr>\n    <tr>\n      <th>1006</th>\n      <td>NaN</td>\n      <td>NaN</td>\n      <td>NaN</td>\n      <td>NaN</td>\n      <td>NaN</td>\n      <td>NaN</td>\n      <td>NaN</td>\n    </tr>\n    <tr>\n      <th>1133</th>\n      <td>NaN</td>\n      <td>NaN</td>\n      <td>NaN</td>\n      <td>NaN</td>\n      <td>NaN</td>\n      <td>NaN</td>\n      <td>NaN</td>\n    </tr>\n    <tr>\n      <th>1210</th>\n      <td>NaN</td>\n      <td>NaN</td>\n      <td>NaN</td>\n      <td>NaN</td>\n      <td>NaN</td>\n      <td>NaN</td>\n      <td>NaN</td>\n    </tr>\n    <tr>\n      <th>1500</th>\n      <td>NaN</td>\n      <td>NaN</td>\n      <td>NaN</td>\n      <td>NaN</td>\n      <td>NaN</td>\n      <td>NaN</td>\n      <td>NaN</td>\n    </tr>\n    <tr>\n      <th>1785</th>\n      <td>NaN</td>\n      <td>NaN</td>\n      <td>NaN</td>\n      <td>NaN</td>\n      <td>NaN</td>\n      <td>NaN</td>\n      <td>NaN</td>\n    </tr>\n    <tr>\n      <th>2254</th>\n      <td>NaN</td>\n      <td>NaN</td>\n      <td>NaN</td>\n      <td>NaN</td>\n      <td>NaN</td>\n      <td>NaN</td>\n      <td>NaN</td>\n    </tr>\n    <tr>\n      <th>2302</th>\n      <td>NaN</td>\n      <td>NaN</td>\n      <td>NaN</td>\n      <td>NaN</td>\n      <td>NaN</td>\n      <td>NaN</td>\n      <td>NaN</td>\n    </tr>\n    <tr>\n      <th>2709</th>\n      <td>NaN</td>\n      <td>NaN</td>\n      <td>NaN</td>\n      <td>NaN</td>\n      <td>NaN</td>\n      <td>NaN</td>\n      <td>NaN</td>\n    </tr>\n    <tr>\n      <th>2959</th>\n      <td>NaN</td>\n      <td>NaN</td>\n      <td>NaN</td>\n      <td>NaN</td>\n      <td>NaN</td>\n      <td>NaN</td>\n      <td>NaN</td>\n    </tr>\n    <tr>\n      <th>3108</th>\n      <td>NaN</td>\n      <td>NaN</td>\n      <td>NaN</td>\n      <td>NaN</td>\n      <td>NaN</td>\n      <td>NaN</td>\n      <td>NaN</td>\n    </tr>\n    <tr>\n      <th>3316</th>\n      <td>NaN</td>\n      <td>NaN</td>\n      <td>NaN</td>\n      <td>NaN</td>\n      <td>NaN</td>\n      <td>NaN</td>\n      <td>NaN</td>\n    </tr>\n    <tr>\n      <th>3377</th>\n      <td>NaN</td>\n      <td>NaN</td>\n      <td>NaN</td>\n      <td>NaN</td>\n      <td>NaN</td>\n      <td>NaN</td>\n      <td>NaN</td>\n    </tr>\n    <tr>\n      <th>4006</th>\n      <td>NaN</td>\n      <td>NaN</td>\n      <td>NaN</td>\n      <td>NaN</td>\n      <td>NaN</td>\n      <td>NaN</td>\n      <td>NaN</td>\n    </tr>\n  </tbody>\n</table>\n</div>"
     },
     "metadata": {},
     "execution_count": 107
    }
   ],
   "source": [
    "#TODO NAN in features\n",
    "\n",
    "features[features.isna().any(axis=1)]"
   ]
  },
  {
   "cell_type": "code",
   "execution_count": 109,
   "metadata": {},
   "outputs": [],
   "source": [
    "new_features = ['number_of_future_verbs', 'number_of_premise_conclusion_markers', 'dictionary_percentage']\n",
    "data = pd.concat([data, features[new_features]], axis = 1).dropna()"
   ]
  },
  {
   "cell_type": "code",
   "execution_count": 110,
   "metadata": {},
   "outputs": [],
   "source": [
    "data.to_csv('data/data_features.csv', index=False)"
   ]
  },
  {
   "cell_type": "code",
   "execution_count": 8,
   "metadata": {},
   "outputs": [],
   "source": [
    "data = pd.read_csv('data/data_features.csv')"
   ]
  },
  {
   "cell_type": "code",
   "execution_count": 112,
   "metadata": {},
   "outputs": [],
   "source": [
    "features = ['nltk_sentiment', 'subjectivity', 'num_sent', 'avg_num_words', 'number_of_premise_conclusion_markers', 'dictionary_percentage']\n",
    "labels = ['Label']\n",
    "X = data[features]\n",
    "y = data[labels]"
   ]
  },
  {
   "cell_type": "code",
   "execution_count": 113,
   "metadata": {},
   "outputs": [],
   "source": [
    "from sklearn.model_selection import train_test_split\n",
    "from sklearn.preprocessing import MinMaxScaler\n",
    "\n",
    "X_train, X_test, y_train, y_test = train_test_split(X, y, test_size=0.30)\n"
   ]
  },
  {
   "cell_type": "code",
   "execution_count": 115,
   "metadata": {},
   "outputs": [
    {
     "output_type": "stream",
     "name": "stdout",
     "text": [
      "Optimization terminated successfully.\n         Current function value: 0.554395\n         Iterations 7\n                                   Results: Logit\n=====================================================================================\nModel:                     Logit                  Pseudo R-squared:       0.199      \nDependent Variable:        Label                  AIC:                    3106.6318  \nDate:                      2020-12-16 12:35       BIC:                    3142.2367  \nNo. Observations:          2791                   Log-Likelihood:         -1547.3    \nDf Model:                  5                      LL-Null:                -1932.0    \nDf Residuals:              2785                   LLR p-value:            5.1420e-164\nConverged:                 1.0000                 Scale:                  1.0000     \nNo. Iterations:            7.0000                                                    \n-------------------------------------------------------------------------------------\n                                      Coef.  Std.Err.    z     P>|z|   [0.025  0.975]\n-------------------------------------------------------------------------------------\nsentiment                             0.0378   0.2200   0.1718 0.8636 -0.3934  0.4690\nsubjectivity                         -6.5095   0.3830 -16.9955 0.0000 -7.2602 -5.7588\nnum_sent                             -0.0013   0.0016  -0.7908 0.4290 -0.0045  0.0019\navg_num_words                        -0.0422   0.0074  -5.7124 0.0000 -0.0566 -0.0277\nnumber_of_premise_conclusion_markers  0.1030   0.0560   1.8379 0.0661 -0.0068  0.2129\ndictionary_percentage                 4.3183   0.2882  14.9862 0.0000  3.7535  4.8831\n=====================================================================================\n\n"
     ]
    }
   ],
   "source": [
    "import statsmodels.api as sm\n",
    "logit_model=sm.Logit(y_train,X_train)\n",
    "result=logit_model.fit()\n",
    "print(result.summary2())"
   ]
  },
  {
   "cell_type": "code",
   "execution_count": 117,
   "metadata": {},
   "outputs": [
    {
     "output_type": "execute_result",
     "data": {
      "text/plain": [
       "LogisticRegression()"
      ]
     },
     "metadata": {},
     "execution_count": 117
    }
   ],
   "source": [
    "from sklearn.linear_model import LogisticRegression\n",
    "\n",
    "logreg = LogisticRegression()\n",
    "logreg.fit(X_train, y_train)"
   ]
  },
  {
   "cell_type": "code",
   "execution_count": 118,
   "metadata": {},
   "outputs": [
    {
     "output_type": "stream",
     "name": "stdout",
     "text": [
      "Accuracy of logistic regression classifier on test set: 0.73\n"
     ]
    }
   ],
   "source": [
    "y_pred = logreg.predict(X_test)\n",
    "print('Accuracy of logistic regression classifier on test set: {:.2f}'.format(logreg.score(X_test, y_test)))"
   ]
  },
  {
   "cell_type": "code",
   "execution_count": 119,
   "metadata": {},
   "outputs": [
    {
     "output_type": "stream",
     "name": "stdout",
     "text": [
      "              precision    recall  f1-score   support\n\n         0.0       0.84      0.63      0.72       664\n         1.0       0.65      0.85      0.74       533\n\n    accuracy                           0.73      1197\n   macro avg       0.75      0.74      0.73      1197\nweighted avg       0.76      0.73      0.73      1197\n\n"
     ]
    }
   ],
   "source": [
    "from sklearn.metrics import classification_report\n",
    "print(classification_report(y_test, y_pred))"
   ]
  },
  {
   "cell_type": "code",
   "execution_count": 125,
   "metadata": {},
   "outputs": [
    {
     "output_type": "display_data",
     "data": {
      "text/plain": "<Figure size 432x288 with 1 Axes>",
      "image/svg+xml": "<?xml version=\"1.0\" encoding=\"utf-8\" standalone=\"no\"?>\n<!DOCTYPE svg PUBLIC \"-//W3C//DTD SVG 1.1//EN\"\n  \"http://www.w3.org/Graphics/SVG/1.1/DTD/svg11.dtd\">\n<!-- Created with matplotlib (https://matplotlib.org/) -->\n<svg height=\"277.314375pt\" version=\"1.1\" viewBox=\"0 0 393.732813 277.314375\" width=\"393.732813pt\" xmlns=\"http://www.w3.org/2000/svg\" xmlns:xlink=\"http://www.w3.org/1999/xlink\">\n <defs>\n  <style type=\"text/css\">\n*{stroke-linecap:butt;stroke-linejoin:round;}\n  </style>\n </defs>\n <g id=\"figure_1\">\n  <g id=\"patch_1\">\n   <path d=\"M 0 277.314375 \nL 393.732813 277.314375 \nL 393.732813 0 \nL 0 0 \nz\n\" style=\"fill:none;\"/>\n  </g>\n  <g id=\"axes_1\">\n   <g id=\"patch_2\">\n    <path d=\"M 43.78125 239.758125 \nL 378.58125 239.758125 \nL 378.58125 22.318125 \nL 43.78125 22.318125 \nz\n\" style=\"fill:#ffffff;\"/>\n   </g>\n   <g id=\"matplotlib.axis_1\">\n    <g id=\"xtick_1\">\n     <g id=\"line2d_1\">\n      <defs>\n       <path d=\"M 0 0 \nL 0 3.5 \n\" id=\"m7246ad07cb\" style=\"stroke:#000000;stroke-width:0.8;\"/>\n      </defs>\n      <g>\n       <use style=\"stroke:#000000;stroke-width:0.8;\" x=\"43.78125\" xlink:href=\"#m7246ad07cb\" y=\"239.758125\"/>\n      </g>\n     </g>\n     <g id=\"text_1\">\n      <!-- 0.0 -->\n      <defs>\n       <path d=\"M 31.78125 66.40625 \nQ 24.171875 66.40625 20.328125 58.90625 \nQ 16.5 51.421875 16.5 36.375 \nQ 16.5 21.390625 20.328125 13.890625 \nQ 24.171875 6.390625 31.78125 6.390625 \nQ 39.453125 6.390625 43.28125 13.890625 \nQ 47.125 21.390625 47.125 36.375 \nQ 47.125 51.421875 43.28125 58.90625 \nQ 39.453125 66.40625 31.78125 66.40625 \nz\nM 31.78125 74.21875 \nQ 44.046875 74.21875 50.515625 64.515625 \nQ 56.984375 54.828125 56.984375 36.375 \nQ 56.984375 17.96875 50.515625 8.265625 \nQ 44.046875 -1.421875 31.78125 -1.421875 \nQ 19.53125 -1.421875 13.0625 8.265625 \nQ 6.59375 17.96875 6.59375 36.375 \nQ 6.59375 54.828125 13.0625 64.515625 \nQ 19.53125 74.21875 31.78125 74.21875 \nz\n\" id=\"DejaVuSans-48\"/>\n       <path d=\"M 10.6875 12.40625 \nL 21 12.40625 \nL 21 0 \nL 10.6875 0 \nz\n\" id=\"DejaVuSans-46\"/>\n      </defs>\n      <g transform=\"translate(35.829688 254.356562)scale(0.1 -0.1)\">\n       <use xlink:href=\"#DejaVuSans-48\"/>\n       <use x=\"63.623047\" xlink:href=\"#DejaVuSans-46\"/>\n       <use x=\"95.410156\" xlink:href=\"#DejaVuSans-48\"/>\n      </g>\n     </g>\n    </g>\n    <g id=\"xtick_2\">\n     <g id=\"line2d_2\">\n      <g>\n       <use style=\"stroke:#000000;stroke-width:0.8;\" x=\"110.74125\" xlink:href=\"#m7246ad07cb\" y=\"239.758125\"/>\n      </g>\n     </g>\n     <g id=\"text_2\">\n      <!-- 0.2 -->\n      <defs>\n       <path d=\"M 19.1875 8.296875 \nL 53.609375 8.296875 \nL 53.609375 0 \nL 7.328125 0 \nL 7.328125 8.296875 \nQ 12.9375 14.109375 22.625 23.890625 \nQ 32.328125 33.6875 34.8125 36.53125 \nQ 39.546875 41.84375 41.421875 45.53125 \nQ 43.3125 49.21875 43.3125 52.78125 \nQ 43.3125 58.59375 39.234375 62.25 \nQ 35.15625 65.921875 28.609375 65.921875 \nQ 23.96875 65.921875 18.8125 64.3125 \nQ 13.671875 62.703125 7.8125 59.421875 \nL 7.8125 69.390625 \nQ 13.765625 71.78125 18.9375 73 \nQ 24.125 74.21875 28.421875 74.21875 \nQ 39.75 74.21875 46.484375 68.546875 \nQ 53.21875 62.890625 53.21875 53.421875 \nQ 53.21875 48.921875 51.53125 44.890625 \nQ 49.859375 40.875 45.40625 35.40625 \nQ 44.1875 33.984375 37.640625 27.21875 \nQ 31.109375 20.453125 19.1875 8.296875 \nz\n\" id=\"DejaVuSans-50\"/>\n      </defs>\n      <g transform=\"translate(102.789688 254.356562)scale(0.1 -0.1)\">\n       <use xlink:href=\"#DejaVuSans-48\"/>\n       <use x=\"63.623047\" xlink:href=\"#DejaVuSans-46\"/>\n       <use x=\"95.410156\" xlink:href=\"#DejaVuSans-50\"/>\n      </g>\n     </g>\n    </g>\n    <g id=\"xtick_3\">\n     <g id=\"line2d_3\">\n      <g>\n       <use style=\"stroke:#000000;stroke-width:0.8;\" x=\"177.70125\" xlink:href=\"#m7246ad07cb\" y=\"239.758125\"/>\n      </g>\n     </g>\n     <g id=\"text_3\">\n      <!-- 0.4 -->\n      <defs>\n       <path d=\"M 37.796875 64.3125 \nL 12.890625 25.390625 \nL 37.796875 25.390625 \nz\nM 35.203125 72.90625 \nL 47.609375 72.90625 \nL 47.609375 25.390625 \nL 58.015625 25.390625 \nL 58.015625 17.1875 \nL 47.609375 17.1875 \nL 47.609375 0 \nL 37.796875 0 \nL 37.796875 17.1875 \nL 4.890625 17.1875 \nL 4.890625 26.703125 \nz\n\" id=\"DejaVuSans-52\"/>\n      </defs>\n      <g transform=\"translate(169.749688 254.356562)scale(0.1 -0.1)\">\n       <use xlink:href=\"#DejaVuSans-48\"/>\n       <use x=\"63.623047\" xlink:href=\"#DejaVuSans-46\"/>\n       <use x=\"95.410156\" xlink:href=\"#DejaVuSans-52\"/>\n      </g>\n     </g>\n    </g>\n    <g id=\"xtick_4\">\n     <g id=\"line2d_4\">\n      <g>\n       <use style=\"stroke:#000000;stroke-width:0.8;\" x=\"244.66125\" xlink:href=\"#m7246ad07cb\" y=\"239.758125\"/>\n      </g>\n     </g>\n     <g id=\"text_4\">\n      <!-- 0.6 -->\n      <defs>\n       <path d=\"M 33.015625 40.375 \nQ 26.375 40.375 22.484375 35.828125 \nQ 18.609375 31.296875 18.609375 23.390625 \nQ 18.609375 15.53125 22.484375 10.953125 \nQ 26.375 6.390625 33.015625 6.390625 \nQ 39.65625 6.390625 43.53125 10.953125 \nQ 47.40625 15.53125 47.40625 23.390625 \nQ 47.40625 31.296875 43.53125 35.828125 \nQ 39.65625 40.375 33.015625 40.375 \nz\nM 52.59375 71.296875 \nL 52.59375 62.3125 \nQ 48.875 64.0625 45.09375 64.984375 \nQ 41.3125 65.921875 37.59375 65.921875 \nQ 27.828125 65.921875 22.671875 59.328125 \nQ 17.53125 52.734375 16.796875 39.40625 \nQ 19.671875 43.65625 24.015625 45.921875 \nQ 28.375 48.1875 33.59375 48.1875 \nQ 44.578125 48.1875 50.953125 41.515625 \nQ 57.328125 34.859375 57.328125 23.390625 \nQ 57.328125 12.15625 50.6875 5.359375 \nQ 44.046875 -1.421875 33.015625 -1.421875 \nQ 20.359375 -1.421875 13.671875 8.265625 \nQ 6.984375 17.96875 6.984375 36.375 \nQ 6.984375 53.65625 15.1875 63.9375 \nQ 23.390625 74.21875 37.203125 74.21875 \nQ 40.921875 74.21875 44.703125 73.484375 \nQ 48.484375 72.75 52.59375 71.296875 \nz\n\" id=\"DejaVuSans-54\"/>\n      </defs>\n      <g transform=\"translate(236.709688 254.356562)scale(0.1 -0.1)\">\n       <use xlink:href=\"#DejaVuSans-48\"/>\n       <use x=\"63.623047\" xlink:href=\"#DejaVuSans-46\"/>\n       <use x=\"95.410156\" xlink:href=\"#DejaVuSans-54\"/>\n      </g>\n     </g>\n    </g>\n    <g id=\"xtick_5\">\n     <g id=\"line2d_5\">\n      <g>\n       <use style=\"stroke:#000000;stroke-width:0.8;\" x=\"311.62125\" xlink:href=\"#m7246ad07cb\" y=\"239.758125\"/>\n      </g>\n     </g>\n     <g id=\"text_5\">\n      <!-- 0.8 -->\n      <defs>\n       <path d=\"M 31.78125 34.625 \nQ 24.75 34.625 20.71875 30.859375 \nQ 16.703125 27.09375 16.703125 20.515625 \nQ 16.703125 13.921875 20.71875 10.15625 \nQ 24.75 6.390625 31.78125 6.390625 \nQ 38.8125 6.390625 42.859375 10.171875 \nQ 46.921875 13.96875 46.921875 20.515625 \nQ 46.921875 27.09375 42.890625 30.859375 \nQ 38.875 34.625 31.78125 34.625 \nz\nM 21.921875 38.8125 \nQ 15.578125 40.375 12.03125 44.71875 \nQ 8.5 49.078125 8.5 55.328125 \nQ 8.5 64.0625 14.71875 69.140625 \nQ 20.953125 74.21875 31.78125 74.21875 \nQ 42.671875 74.21875 48.875 69.140625 \nQ 55.078125 64.0625 55.078125 55.328125 \nQ 55.078125 49.078125 51.53125 44.71875 \nQ 48 40.375 41.703125 38.8125 \nQ 48.828125 37.15625 52.796875 32.3125 \nQ 56.78125 27.484375 56.78125 20.515625 \nQ 56.78125 9.90625 50.3125 4.234375 \nQ 43.84375 -1.421875 31.78125 -1.421875 \nQ 19.734375 -1.421875 13.25 4.234375 \nQ 6.78125 9.90625 6.78125 20.515625 \nQ 6.78125 27.484375 10.78125 32.3125 \nQ 14.796875 37.15625 21.921875 38.8125 \nz\nM 18.3125 54.390625 \nQ 18.3125 48.734375 21.84375 45.5625 \nQ 25.390625 42.390625 31.78125 42.390625 \nQ 38.140625 42.390625 41.71875 45.5625 \nQ 45.3125 48.734375 45.3125 54.390625 \nQ 45.3125 60.0625 41.71875 63.234375 \nQ 38.140625 66.40625 31.78125 66.40625 \nQ 25.390625 66.40625 21.84375 63.234375 \nQ 18.3125 60.0625 18.3125 54.390625 \nz\n\" id=\"DejaVuSans-56\"/>\n      </defs>\n      <g transform=\"translate(303.669688 254.356562)scale(0.1 -0.1)\">\n       <use xlink:href=\"#DejaVuSans-48\"/>\n       <use x=\"63.623047\" xlink:href=\"#DejaVuSans-46\"/>\n       <use x=\"95.410156\" xlink:href=\"#DejaVuSans-56\"/>\n      </g>\n     </g>\n    </g>\n    <g id=\"xtick_6\">\n     <g id=\"line2d_6\">\n      <g>\n       <use style=\"stroke:#000000;stroke-width:0.8;\" x=\"378.58125\" xlink:href=\"#m7246ad07cb\" y=\"239.758125\"/>\n      </g>\n     </g>\n     <g id=\"text_6\">\n      <!-- 1.0 -->\n      <defs>\n       <path d=\"M 12.40625 8.296875 \nL 28.515625 8.296875 \nL 28.515625 63.921875 \nL 10.984375 60.40625 \nL 10.984375 69.390625 \nL 28.421875 72.90625 \nL 38.28125 72.90625 \nL 38.28125 8.296875 \nL 54.390625 8.296875 \nL 54.390625 0 \nL 12.40625 0 \nz\n\" id=\"DejaVuSans-49\"/>\n      </defs>\n      <g transform=\"translate(370.629687 254.356562)scale(0.1 -0.1)\">\n       <use xlink:href=\"#DejaVuSans-49\"/>\n       <use x=\"63.623047\" xlink:href=\"#DejaVuSans-46\"/>\n       <use x=\"95.410156\" xlink:href=\"#DejaVuSans-48\"/>\n      </g>\n     </g>\n    </g>\n    <g id=\"text_7\">\n     <!-- False Positive Rate -->\n     <defs>\n      <path d=\"M 9.8125 72.90625 \nL 51.703125 72.90625 \nL 51.703125 64.59375 \nL 19.671875 64.59375 \nL 19.671875 43.109375 \nL 48.578125 43.109375 \nL 48.578125 34.8125 \nL 19.671875 34.8125 \nL 19.671875 0 \nL 9.8125 0 \nz\n\" id=\"DejaVuSans-70\"/>\n      <path d=\"M 34.28125 27.484375 \nQ 23.390625 27.484375 19.1875 25 \nQ 14.984375 22.515625 14.984375 16.5 \nQ 14.984375 11.71875 18.140625 8.90625 \nQ 21.296875 6.109375 26.703125 6.109375 \nQ 34.1875 6.109375 38.703125 11.40625 \nQ 43.21875 16.703125 43.21875 25.484375 \nL 43.21875 27.484375 \nz\nM 52.203125 31.203125 \nL 52.203125 0 \nL 43.21875 0 \nL 43.21875 8.296875 \nQ 40.140625 3.328125 35.546875 0.953125 \nQ 30.953125 -1.421875 24.3125 -1.421875 \nQ 15.921875 -1.421875 10.953125 3.296875 \nQ 6 8.015625 6 15.921875 \nQ 6 25.140625 12.171875 29.828125 \nQ 18.359375 34.515625 30.609375 34.515625 \nL 43.21875 34.515625 \nL 43.21875 35.40625 \nQ 43.21875 41.609375 39.140625 45 \nQ 35.0625 48.390625 27.6875 48.390625 \nQ 23 48.390625 18.546875 47.265625 \nQ 14.109375 46.140625 10.015625 43.890625 \nL 10.015625 52.203125 \nQ 14.9375 54.109375 19.578125 55.046875 \nQ 24.21875 56 28.609375 56 \nQ 40.484375 56 46.34375 49.84375 \nQ 52.203125 43.703125 52.203125 31.203125 \nz\n\" id=\"DejaVuSans-97\"/>\n      <path d=\"M 9.421875 75.984375 \nL 18.40625 75.984375 \nL 18.40625 0 \nL 9.421875 0 \nz\n\" id=\"DejaVuSans-108\"/>\n      <path d=\"M 44.28125 53.078125 \nL 44.28125 44.578125 \nQ 40.484375 46.53125 36.375 47.5 \nQ 32.28125 48.484375 27.875 48.484375 \nQ 21.1875 48.484375 17.84375 46.4375 \nQ 14.5 44.390625 14.5 40.28125 \nQ 14.5 37.15625 16.890625 35.375 \nQ 19.28125 33.59375 26.515625 31.984375 \nL 29.59375 31.296875 \nQ 39.15625 29.25 43.1875 25.515625 \nQ 47.21875 21.78125 47.21875 15.09375 \nQ 47.21875 7.46875 41.1875 3.015625 \nQ 35.15625 -1.421875 24.609375 -1.421875 \nQ 20.21875 -1.421875 15.453125 -0.5625 \nQ 10.6875 0.296875 5.421875 2 \nL 5.421875 11.28125 \nQ 10.40625 8.6875 15.234375 7.390625 \nQ 20.0625 6.109375 24.8125 6.109375 \nQ 31.15625 6.109375 34.5625 8.28125 \nQ 37.984375 10.453125 37.984375 14.40625 \nQ 37.984375 18.0625 35.515625 20.015625 \nQ 33.0625 21.96875 24.703125 23.78125 \nL 21.578125 24.515625 \nQ 13.234375 26.265625 9.515625 29.90625 \nQ 5.8125 33.546875 5.8125 39.890625 \nQ 5.8125 47.609375 11.28125 51.796875 \nQ 16.75 56 26.8125 56 \nQ 31.78125 56 36.171875 55.265625 \nQ 40.578125 54.546875 44.28125 53.078125 \nz\n\" id=\"DejaVuSans-115\"/>\n      <path d=\"M 56.203125 29.59375 \nL 56.203125 25.203125 \nL 14.890625 25.203125 \nQ 15.484375 15.921875 20.484375 11.0625 \nQ 25.484375 6.203125 34.421875 6.203125 \nQ 39.59375 6.203125 44.453125 7.46875 \nQ 49.3125 8.734375 54.109375 11.28125 \nL 54.109375 2.78125 \nQ 49.265625 0.734375 44.1875 -0.34375 \nQ 39.109375 -1.421875 33.890625 -1.421875 \nQ 20.796875 -1.421875 13.15625 6.1875 \nQ 5.515625 13.8125 5.515625 26.8125 \nQ 5.515625 40.234375 12.765625 48.109375 \nQ 20.015625 56 32.328125 56 \nQ 43.359375 56 49.78125 48.890625 \nQ 56.203125 41.796875 56.203125 29.59375 \nz\nM 47.21875 32.234375 \nQ 47.125 39.59375 43.09375 43.984375 \nQ 39.0625 48.390625 32.421875 48.390625 \nQ 24.90625 48.390625 20.390625 44.140625 \nQ 15.875 39.890625 15.1875 32.171875 \nz\n\" id=\"DejaVuSans-101\"/>\n      <path id=\"DejaVuSans-32\"/>\n      <path d=\"M 19.671875 64.796875 \nL 19.671875 37.40625 \nL 32.078125 37.40625 \nQ 38.96875 37.40625 42.71875 40.96875 \nQ 46.484375 44.53125 46.484375 51.125 \nQ 46.484375 57.671875 42.71875 61.234375 \nQ 38.96875 64.796875 32.078125 64.796875 \nz\nM 9.8125 72.90625 \nL 32.078125 72.90625 \nQ 44.34375 72.90625 50.609375 67.359375 \nQ 56.890625 61.8125 56.890625 51.125 \nQ 56.890625 40.328125 50.609375 34.8125 \nQ 44.34375 29.296875 32.078125 29.296875 \nL 19.671875 29.296875 \nL 19.671875 0 \nL 9.8125 0 \nz\n\" id=\"DejaVuSans-80\"/>\n      <path d=\"M 30.609375 48.390625 \nQ 23.390625 48.390625 19.1875 42.75 \nQ 14.984375 37.109375 14.984375 27.296875 \nQ 14.984375 17.484375 19.15625 11.84375 \nQ 23.34375 6.203125 30.609375 6.203125 \nQ 37.796875 6.203125 41.984375 11.859375 \nQ 46.1875 17.53125 46.1875 27.296875 \nQ 46.1875 37.015625 41.984375 42.703125 \nQ 37.796875 48.390625 30.609375 48.390625 \nz\nM 30.609375 56 \nQ 42.328125 56 49.015625 48.375 \nQ 55.71875 40.765625 55.71875 27.296875 \nQ 55.71875 13.875 49.015625 6.21875 \nQ 42.328125 -1.421875 30.609375 -1.421875 \nQ 18.84375 -1.421875 12.171875 6.21875 \nQ 5.515625 13.875 5.515625 27.296875 \nQ 5.515625 40.765625 12.171875 48.375 \nQ 18.84375 56 30.609375 56 \nz\n\" id=\"DejaVuSans-111\"/>\n      <path d=\"M 9.421875 54.6875 \nL 18.40625 54.6875 \nL 18.40625 0 \nL 9.421875 0 \nz\nM 9.421875 75.984375 \nL 18.40625 75.984375 \nL 18.40625 64.59375 \nL 9.421875 64.59375 \nz\n\" id=\"DejaVuSans-105\"/>\n      <path d=\"M 18.3125 70.21875 \nL 18.3125 54.6875 \nL 36.8125 54.6875 \nL 36.8125 47.703125 \nL 18.3125 47.703125 \nL 18.3125 18.015625 \nQ 18.3125 11.328125 20.140625 9.421875 \nQ 21.96875 7.515625 27.59375 7.515625 \nL 36.8125 7.515625 \nL 36.8125 0 \nL 27.59375 0 \nQ 17.1875 0 13.234375 3.875 \nQ 9.28125 7.765625 9.28125 18.015625 \nL 9.28125 47.703125 \nL 2.6875 47.703125 \nL 2.6875 54.6875 \nL 9.28125 54.6875 \nL 9.28125 70.21875 \nz\n\" id=\"DejaVuSans-116\"/>\n      <path d=\"M 2.984375 54.6875 \nL 12.5 54.6875 \nL 29.59375 8.796875 \nL 46.6875 54.6875 \nL 56.203125 54.6875 \nL 35.6875 0 \nL 23.484375 0 \nz\n\" id=\"DejaVuSans-118\"/>\n      <path d=\"M 44.390625 34.1875 \nQ 47.5625 33.109375 50.5625 29.59375 \nQ 53.5625 26.078125 56.59375 19.921875 \nL 66.609375 0 \nL 56 0 \nL 46.6875 18.703125 \nQ 43.0625 26.03125 39.671875 28.421875 \nQ 36.28125 30.8125 30.421875 30.8125 \nL 19.671875 30.8125 \nL 19.671875 0 \nL 9.8125 0 \nL 9.8125 72.90625 \nL 32.078125 72.90625 \nQ 44.578125 72.90625 50.734375 67.671875 \nQ 56.890625 62.453125 56.890625 51.90625 \nQ 56.890625 45.015625 53.6875 40.46875 \nQ 50.484375 35.9375 44.390625 34.1875 \nz\nM 19.671875 64.796875 \nL 19.671875 38.921875 \nL 32.078125 38.921875 \nQ 39.203125 38.921875 42.84375 42.21875 \nQ 46.484375 45.515625 46.484375 51.90625 \nQ 46.484375 58.296875 42.84375 61.546875 \nQ 39.203125 64.796875 32.078125 64.796875 \nz\n\" id=\"DejaVuSans-82\"/>\n     </defs>\n     <g transform=\"translate(164.714844 268.034687)scale(0.1 -0.1)\">\n      <use xlink:href=\"#DejaVuSans-70\"/>\n      <use x=\"48.394531\" xlink:href=\"#DejaVuSans-97\"/>\n      <use x=\"109.673828\" xlink:href=\"#DejaVuSans-108\"/>\n      <use x=\"137.457031\" xlink:href=\"#DejaVuSans-115\"/>\n      <use x=\"189.556641\" xlink:href=\"#DejaVuSans-101\"/>\n      <use x=\"251.080078\" xlink:href=\"#DejaVuSans-32\"/>\n      <use x=\"282.867188\" xlink:href=\"#DejaVuSans-80\"/>\n      <use x=\"339.544922\" xlink:href=\"#DejaVuSans-111\"/>\n      <use x=\"400.726562\" xlink:href=\"#DejaVuSans-115\"/>\n      <use x=\"452.826172\" xlink:href=\"#DejaVuSans-105\"/>\n      <use x=\"480.609375\" xlink:href=\"#DejaVuSans-116\"/>\n      <use x=\"519.818359\" xlink:href=\"#DejaVuSans-105\"/>\n      <use x=\"547.601562\" xlink:href=\"#DejaVuSans-118\"/>\n      <use x=\"606.78125\" xlink:href=\"#DejaVuSans-101\"/>\n      <use x=\"668.304688\" xlink:href=\"#DejaVuSans-32\"/>\n      <use x=\"700.091797\" xlink:href=\"#DejaVuSans-82\"/>\n      <use x=\"767.324219\" xlink:href=\"#DejaVuSans-97\"/>\n      <use x=\"828.603516\" xlink:href=\"#DejaVuSans-116\"/>\n      <use x=\"867.8125\" xlink:href=\"#DejaVuSans-101\"/>\n     </g>\n    </g>\n   </g>\n   <g id=\"matplotlib.axis_2\">\n    <g id=\"ytick_1\">\n     <g id=\"line2d_7\">\n      <defs>\n       <path d=\"M 0 0 \nL -3.5 0 \n\" id=\"m4229f65f87\" style=\"stroke:#000000;stroke-width:0.8;\"/>\n      </defs>\n      <g>\n       <use style=\"stroke:#000000;stroke-width:0.8;\" x=\"43.78125\" xlink:href=\"#m4229f65f87\" y=\"239.758125\"/>\n      </g>\n     </g>\n     <g id=\"text_8\">\n      <!-- 0.0 -->\n      <g transform=\"translate(20.878125 243.557344)scale(0.1 -0.1)\">\n       <use xlink:href=\"#DejaVuSans-48\"/>\n       <use x=\"63.623047\" xlink:href=\"#DejaVuSans-46\"/>\n       <use x=\"95.410156\" xlink:href=\"#DejaVuSans-48\"/>\n      </g>\n     </g>\n    </g>\n    <g id=\"ytick_2\">\n     <g id=\"line2d_8\">\n      <g>\n       <use style=\"stroke:#000000;stroke-width:0.8;\" x=\"43.78125\" xlink:href=\"#m4229f65f87\" y=\"198.340982\"/>\n      </g>\n     </g>\n     <g id=\"text_9\">\n      <!-- 0.2 -->\n      <g transform=\"translate(20.878125 202.140201)scale(0.1 -0.1)\">\n       <use xlink:href=\"#DejaVuSans-48\"/>\n       <use x=\"63.623047\" xlink:href=\"#DejaVuSans-46\"/>\n       <use x=\"95.410156\" xlink:href=\"#DejaVuSans-50\"/>\n      </g>\n     </g>\n    </g>\n    <g id=\"ytick_3\">\n     <g id=\"line2d_9\">\n      <g>\n       <use style=\"stroke:#000000;stroke-width:0.8;\" x=\"43.78125\" xlink:href=\"#m4229f65f87\" y=\"156.923839\"/>\n      </g>\n     </g>\n     <g id=\"text_10\">\n      <!-- 0.4 -->\n      <g transform=\"translate(20.878125 160.723058)scale(0.1 -0.1)\">\n       <use xlink:href=\"#DejaVuSans-48\"/>\n       <use x=\"63.623047\" xlink:href=\"#DejaVuSans-46\"/>\n       <use x=\"95.410156\" xlink:href=\"#DejaVuSans-52\"/>\n      </g>\n     </g>\n    </g>\n    <g id=\"ytick_4\">\n     <g id=\"line2d_10\">\n      <g>\n       <use style=\"stroke:#000000;stroke-width:0.8;\" x=\"43.78125\" xlink:href=\"#m4229f65f87\" y=\"115.506696\"/>\n      </g>\n     </g>\n     <g id=\"text_11\">\n      <!-- 0.6 -->\n      <g transform=\"translate(20.878125 119.305915)scale(0.1 -0.1)\">\n       <use xlink:href=\"#DejaVuSans-48\"/>\n       <use x=\"63.623047\" xlink:href=\"#DejaVuSans-46\"/>\n       <use x=\"95.410156\" xlink:href=\"#DejaVuSans-54\"/>\n      </g>\n     </g>\n    </g>\n    <g id=\"ytick_5\">\n     <g id=\"line2d_11\">\n      <g>\n       <use style=\"stroke:#000000;stroke-width:0.8;\" x=\"43.78125\" xlink:href=\"#m4229f65f87\" y=\"74.089554\"/>\n      </g>\n     </g>\n     <g id=\"text_12\">\n      <!-- 0.8 -->\n      <g transform=\"translate(20.878125 77.888772)scale(0.1 -0.1)\">\n       <use xlink:href=\"#DejaVuSans-48\"/>\n       <use x=\"63.623047\" xlink:href=\"#DejaVuSans-46\"/>\n       <use x=\"95.410156\" xlink:href=\"#DejaVuSans-56\"/>\n      </g>\n     </g>\n    </g>\n    <g id=\"ytick_6\">\n     <g id=\"line2d_12\">\n      <g>\n       <use style=\"stroke:#000000;stroke-width:0.8;\" x=\"43.78125\" xlink:href=\"#m4229f65f87\" y=\"32.672411\"/>\n      </g>\n     </g>\n     <g id=\"text_13\">\n      <!-- 1.0 -->\n      <g transform=\"translate(20.878125 36.471629)scale(0.1 -0.1)\">\n       <use xlink:href=\"#DejaVuSans-49\"/>\n       <use x=\"63.623047\" xlink:href=\"#DejaVuSans-46\"/>\n       <use x=\"95.410156\" xlink:href=\"#DejaVuSans-48\"/>\n      </g>\n     </g>\n    </g>\n    <g id=\"text_14\">\n     <!-- True Positive Rate -->\n     <defs>\n      <path d=\"M -0.296875 72.90625 \nL 61.375 72.90625 \nL 61.375 64.59375 \nL 35.5 64.59375 \nL 35.5 0 \nL 25.59375 0 \nL 25.59375 64.59375 \nL -0.296875 64.59375 \nz\n\" id=\"DejaVuSans-84\"/>\n      <path d=\"M 41.109375 46.296875 \nQ 39.59375 47.171875 37.8125 47.578125 \nQ 36.03125 48 33.890625 48 \nQ 26.265625 48 22.1875 43.046875 \nQ 18.109375 38.09375 18.109375 28.8125 \nL 18.109375 0 \nL 9.078125 0 \nL 9.078125 54.6875 \nL 18.109375 54.6875 \nL 18.109375 46.1875 \nQ 20.953125 51.171875 25.484375 53.578125 \nQ 30.03125 56 36.53125 56 \nQ 37.453125 56 38.578125 55.875 \nQ 39.703125 55.765625 41.0625 55.515625 \nz\n\" id=\"DejaVuSans-114\"/>\n      <path d=\"M 8.5 21.578125 \nL 8.5 54.6875 \nL 17.484375 54.6875 \nL 17.484375 21.921875 \nQ 17.484375 14.15625 20.5 10.265625 \nQ 23.53125 6.390625 29.59375 6.390625 \nQ 36.859375 6.390625 41.078125 11.03125 \nQ 45.3125 15.671875 45.3125 23.6875 \nL 45.3125 54.6875 \nL 54.296875 54.6875 \nL 54.296875 0 \nL 45.3125 0 \nL 45.3125 8.40625 \nQ 42.046875 3.421875 37.71875 1 \nQ 33.40625 -1.421875 27.6875 -1.421875 \nQ 18.265625 -1.421875 13.375 4.4375 \nQ 8.5 10.296875 8.5 21.578125 \nz\nM 31.109375 56 \nz\n\" id=\"DejaVuSans-117\"/>\n     </defs>\n     <g transform=\"translate(14.798438 175.567812)rotate(-90)scale(0.1 -0.1)\">\n      <use xlink:href=\"#DejaVuSans-84\"/>\n      <use x=\"46.333984\" xlink:href=\"#DejaVuSans-114\"/>\n      <use x=\"87.447266\" xlink:href=\"#DejaVuSans-117\"/>\n      <use x=\"150.826172\" xlink:href=\"#DejaVuSans-101\"/>\n      <use x=\"212.349609\" xlink:href=\"#DejaVuSans-32\"/>\n      <use x=\"244.136719\" xlink:href=\"#DejaVuSans-80\"/>\n      <use x=\"300.814453\" xlink:href=\"#DejaVuSans-111\"/>\n      <use x=\"361.996094\" xlink:href=\"#DejaVuSans-115\"/>\n      <use x=\"414.095703\" xlink:href=\"#DejaVuSans-105\"/>\n      <use x=\"441.878906\" xlink:href=\"#DejaVuSans-116\"/>\n      <use x=\"481.087891\" xlink:href=\"#DejaVuSans-105\"/>\n      <use x=\"508.871094\" xlink:href=\"#DejaVuSans-118\"/>\n      <use x=\"568.050781\" xlink:href=\"#DejaVuSans-101\"/>\n      <use x=\"629.574219\" xlink:href=\"#DejaVuSans-32\"/>\n      <use x=\"661.361328\" xlink:href=\"#DejaVuSans-82\"/>\n      <use x=\"728.59375\" xlink:href=\"#DejaVuSans-97\"/>\n      <use x=\"789.873047\" xlink:href=\"#DejaVuSans-116\"/>\n      <use x=\"829.082031\" xlink:href=\"#DejaVuSans-101\"/>\n     </g>\n    </g>\n   </g>\n   <g id=\"line2d_13\">\n    <path clip-path=\"url(#p4daf106975)\" d=\"M 43.78125 239.758125 \nL 43.78125 229.267854 \nL 44.285467 229.267854 \nL 44.285467 226.159626 \nL 45.293901 226.159626 \nL 45.293901 224.99404 \nL 45.798117 224.99404 \nL 45.798117 222.27434 \nL 46.302334 222.27434 \nL 46.302334 221.885812 \nL 46.806551 221.885812 \nL 46.806551 215.669355 \nL 47.814985 215.669355 \nL 47.814985 210.229956 \nL 49.327636 210.229956 \nL 49.327636 207.898784 \nL 49.831852 207.898784 \nL 49.831852 205.956142 \nL 50.840286 205.956142 \nL 50.840286 203.62497 \nL 51.344503 203.62497 \nL 51.344503 202.459385 \nL 51.84872 202.459385 \nL 51.84872 202.070856 \nL 52.352937 202.070856 \nL 52.352937 199.739685 \nL 52.857154 199.739685 \nL 52.857154 196.631457 \nL 54.369804 196.631457 \nL 54.369804 196.242928 \nL 54.874021 196.242928 \nL 54.874021 186.918243 \nL 55.378238 186.918243 \nL 55.378238 185.752657 \nL 55.882455 185.752657 \nL 55.882455 184.198543 \nL 57.395105 184.198543 \nL 57.395105 182.2559 \nL 57.899322 182.2559 \nL 57.899322 180.701786 \nL 58.907756 180.701786 \nL 58.907756 180.313258 \nL 59.411973 180.313258 \nL 59.411973 179.924729 \nL 60.420407 179.924729 \nL 60.420407 179.536201 \nL 60.924623 179.536201 \nL 60.924623 179.147672 \nL 61.42884 179.147672 \nL 61.42884 178.370615 \nL 61.933057 178.370615 \nL 61.933057 177.593558 \nL 62.437274 177.593558 \nL 62.437274 175.650915 \nL 62.941491 175.650915 \nL 62.941491 174.873858 \nL 63.445708 174.873858 \nL 63.445708 174.48533 \nL 64.454142 174.48533 \nL 64.454142 173.708272 \nL 65.462575 173.708272 \nL 65.462575 172.542687 \nL 65.966792 172.542687 \nL 65.966792 171.76563 \nL 66.471009 171.76563 \nL 66.471009 170.988573 \nL 66.975226 170.988573 \nL 66.975226 167.880344 \nL 67.98366 167.880344 \nL 67.98366 166.714759 \nL 68.487877 166.714759 \nL 68.487877 165.937702 \nL 70.000527 165.937702 \nL 70.000527 165.549173 \nL 70.504744 165.549173 \nL 70.504744 165.160644 \nL 71.513178 165.160644 \nL 71.513178 162.829473 \nL 72.017395 162.829473 \nL 72.017395 162.052416 \nL 73.530045 162.052416 \nL 73.530045 161.663888 \nL 74.034262 161.663888 \nL 74.034262 158.555659 \nL 75.042696 158.555659 \nL 75.042696 158.167131 \nL 76.555346 158.167131 \nL 76.555346 157.778602 \nL 77.059563 157.778602 \nL 77.059563 157.390074 \nL 77.56378 157.390074 \nL 77.56378 157.001545 \nL 78.067997 157.001545 \nL 78.067997 155.058902 \nL 78.572214 155.058902 \nL 78.572214 153.893317 \nL 79.076431 153.893317 \nL 79.076431 153.504788 \nL 79.580648 153.504788 \nL 79.580648 153.11626 \nL 80.084864 153.11626 \nL 80.084864 152.727731 \nL 80.589081 152.727731 \nL 80.589081 152.339202 \nL 81.093298 152.339202 \nL 81.093298 151.950674 \nL 82.101732 151.950674 \nL 82.101732 151.562145 \nL 83.110166 151.562145 \nL 83.110166 151.173617 \nL 83.614383 151.173617 \nL 83.614383 148.453917 \nL 84.622816 148.453917 \nL 84.622816 148.065388 \nL 85.63125 148.065388 \nL 85.63125 147.67686 \nL 86.135467 147.67686 \nL 86.135467 146.122746 \nL 86.639684 146.122746 \nL 86.639684 145.734217 \nL 87.143901 145.734217 \nL 87.143901 143.791574 \nL 87.648117 143.791574 \nL 87.648117 140.683346 \nL 88.656551 140.683346 \nL 88.656551 137.963646 \nL 89.160768 137.963646 \nL 89.160768 137.575118 \nL 89.664985 137.575118 \nL 89.664985 136.798061 \nL 91.177636 136.798061 \nL 91.177636 136.021004 \nL 91.681852 136.021004 \nL 91.681852 134.078361 \nL 92.186069 134.078361 \nL 92.186069 133.689832 \nL 92.690286 133.689832 \nL 92.690286 132.912775 \nL 93.194503 132.912775 \nL 93.194503 130.193075 \nL 95.21137 130.193075 \nL 95.21137 129.804547 \nL 96.219804 129.804547 \nL 96.219804 128.638961 \nL 99.749322 128.638961 \nL 99.749322 128.250433 \nL 100.253539 128.250433 \nL 100.253539 127.473376 \nL 100.757756 127.473376 \nL 100.757756 126.30779 \nL 101.261973 126.30779 \nL 101.261973 124.365147 \nL 101.76619 124.365147 \nL 101.76619 123.976619 \nL 102.774623 123.976619 \nL 102.774623 123.58809 \nL 104.287274 123.58809 \nL 104.287274 123.199562 \nL 104.791491 123.199562 \nL 104.791491 122.422505 \nL 105.295708 122.422505 \nL 105.295708 122.033976 \nL 106.304142 122.033976 \nL 106.304142 121.256919 \nL 107.312575 121.256919 \nL 107.312575 117.760162 \nL 107.816792 117.760162 \nL 107.816792 116.983105 \nL 109.329443 116.983105 \nL 109.329443 116.594576 \nL 109.83366 116.594576 \nL 109.83366 115.817519 \nL 110.337877 115.817519 \nL 110.337877 115.040462 \nL 111.34631 115.040462 \nL 111.34631 114.651934 \nL 112.858961 114.651934 \nL 112.858961 114.263405 \nL 113.363178 114.263405 \nL 113.363178 113.486348 \nL 114.371611 113.486348 \nL 114.371611 111.543705 \nL 115.884262 111.543705 \nL 115.884262 107.269891 \nL 116.388479 107.269891 \nL 116.388479 106.492834 \nL 117.396913 106.492834 \nL 117.396913 106.104306 \nL 118.909563 106.104306 \nL 118.909563 105.327249 \nL 119.41378 105.327249 \nL 119.41378 104.93872 \nL 120.422214 104.93872 \nL 120.422214 104.550191 \nL 121.430648 104.550191 \nL 121.430648 102.607549 \nL 122.439081 102.607549 \nL 122.439081 102.21902 \nL 122.943298 102.21902 \nL 122.943298 100.664906 \nL 124.960166 100.664906 \nL 124.960166 100.276377 \nL 126.472816 100.276377 \nL 126.472816 99.887849 \nL 126.977033 99.887849 \nL 126.977033 99.49932 \nL 127.48125 99.49932 \nL 127.48125 99.110792 \nL 128.489684 99.110792 \nL 128.489684 98.722263 \nL 130.002334 98.722263 \nL 130.002334 97.556678 \nL 130.506551 97.556678 \nL 130.506551 96.002563 \nL 131.514985 96.002563 \nL 131.514985 94.836978 \nL 133.027636 94.836978 \nL 133.027636 94.059921 \nL 134.540286 94.059921 \nL 134.540286 93.671392 \nL 135.54872 93.671392 \nL 135.54872 92.894335 \nL 136.052937 92.894335 \nL 136.052937 92.505807 \nL 136.557154 92.505807 \nL 136.557154 92.117278 \nL 137.565587 92.117278 \nL 137.565587 91.728749 \nL 138.069804 91.728749 \nL 138.069804 87.066407 \nL 138.574021 87.066407 \nL 138.574021 86.28935 \nL 139.078238 86.28935 \nL 139.078238 85.512293 \nL 143.111973 85.512293 \nL 143.111973 85.123764 \nL 144.624623 85.123764 \nL 144.624623 83.56965 \nL 145.12884 83.56965 \nL 145.12884 83.181122 \nL 146.137274 83.181122 \nL 146.137274 81.627007 \nL 146.641491 81.627007 \nL 146.641491 81.238479 \nL 147.649925 81.238479 \nL 147.649925 78.13025 \nL 150.675226 78.13025 \nL 150.675226 77.741722 \nL 152.187877 77.741722 \nL 152.187877 77.353193 \nL 153.19631 77.353193 \nL 153.19631 76.187608 \nL 154.204744 76.187608 \nL 154.204744 75.022022 \nL 154.708961 75.022022 \nL 154.708961 73.856436 \nL 156.221611 73.856436 \nL 156.221611 73.079379 \nL 158.238479 73.079379 \nL 158.238479 72.690851 \nL 158.742696 72.690851 \nL 158.742696 71.913794 \nL 160.255346 71.913794 \nL 160.255346 69.582622 \nL 160.759563 69.582622 \nL 160.759563 68.805565 \nL 161.26378 68.805565 \nL 161.26378 66.862923 \nL 162.776431 66.862923 \nL 162.776431 66.085866 \nL 163.280648 66.085866 \nL 163.280648 65.697337 \nL 164.793298 65.697337 \nL 164.793298 64.92028 \nL 165.801732 64.92028 \nL 165.801732 64.531751 \nL 166.305949 64.531751 \nL 166.305949 63.366166 \nL 168.322816 63.366166 \nL 168.322816 62.977637 \nL 169.835467 62.977637 \nL 169.835467 62.589109 \nL 170.339684 62.589109 \nL 170.339684 62.20058 \nL 171.348117 62.20058 \nL 171.348117 61.812052 \nL 172.356551 61.812052 \nL 172.356551 60.646466 \nL 172.860768 60.646466 \nL 172.860768 58.703823 \nL 173.869202 58.703823 \nL 173.869202 58.315295 \nL 174.877636 58.315295 \nL 174.877636 57.926766 \nL 175.381852 57.926766 \nL 175.381852 57.538238 \nL 176.390286 57.538238 \nL 176.390286 57.149709 \nL 177.39872 57.149709 \nL 177.39872 56.76118 \nL 177.902937 56.76118 \nL 177.902937 56.372652 \nL 179.415587 56.372652 \nL 179.415587 54.818538 \nL 180.424021 54.818538 \nL 180.424021 54.430009 \nL 180.928238 54.430009 \nL 180.928238 52.875895 \nL 181.432455 52.875895 \nL 181.432455 52.487366 \nL 181.936672 52.487366 \nL 181.936672 51.710309 \nL 182.440889 51.710309 \nL 182.440889 51.321781 \nL 182.945105 51.321781 \nL 182.945105 50.933252 \nL 183.449322 50.933252 \nL 183.449322 50.544724 \nL 183.953539 50.544724 \nL 183.953539 48.602081 \nL 184.961973 48.602081 \nL 184.961973 48.213552 \nL 185.46619 48.213552 \nL 185.46619 47.825024 \nL 187.483057 47.825024 \nL 187.483057 47.436495 \nL 189.499925 47.436495 \nL 189.499925 47.047967 \nL 190.004142 47.047967 \nL 190.004142 46.659438 \nL 190.508358 46.659438 \nL 190.508358 46.27091 \nL 191.516792 46.27091 \nL 191.516792 45.882381 \nL 193.029443 45.882381 \nL 193.029443 44.716796 \nL 193.53366 44.716796 \nL 193.53366 44.328267 \nL 194.542093 44.328267 \nL 194.542093 43.939739 \nL 196.054744 43.939739 \nL 196.054744 43.55121 \nL 199.584262 43.55121 \nL 199.584262 43.162681 \nL 202.609563 43.162681 \nL 202.609563 42.774153 \nL 210.172816 42.774153 \nL 210.172816 42.385624 \nL 215.214985 42.385624 \nL 215.214985 41.997096 \nL 217.231852 41.997096 \nL 217.231852 41.608567 \nL 220.257154 41.608567 \nL 220.257154 41.220039 \nL 222.778238 41.220039 \nL 222.778238 40.054453 \nL 225.299322 40.054453 \nL 225.299322 39.665925 \nL 226.307756 39.665925 \nL 226.307756 39.277396 \nL 229.837274 39.277396 \nL 229.837274 38.500339 \nL 231.349925 38.500339 \nL 231.349925 37.723282 \nL 233.871009 37.723282 \nL 233.871009 37.334753 \nL 235.887877 37.334753 \nL 235.887877 36.946225 \nL 255.048117 36.946225 \nL 255.048117 36.557696 \nL 257.569202 36.557696 \nL 257.569202 36.169168 \nL 258.073419 36.169168 \nL 258.073419 35.780639 \nL 260.090286 35.780639 \nL 260.090286 35.392111 \nL 260.594503 35.392111 \nL 260.594503 35.003582 \nL 269.16619 35.003582 \nL 269.16619 34.226525 \nL 272.191491 34.226525 \nL 272.191491 33.837996 \nL 273.199925 33.837996 \nL 273.199925 33.449468 \nL 276.225226 33.449468 \nL 276.225226 33.060939 \nL 279.250527 33.060939 \nL 279.250527 32.672411 \nL 378.58125 32.672411 \nL 378.58125 32.672411 \n\" style=\"fill:none;stroke:#1f77b4;stroke-linecap:square;stroke-width:1.5;\"/>\n   </g>\n   <g id=\"line2d_14\">\n    <path clip-path=\"url(#p4daf106975)\" d=\"M 43.78125 239.758125 \nL 378.58125 32.672411 \n\" style=\"fill:none;stroke:#ff0000;stroke-dasharray:5.55,2.4;stroke-dashoffset:0;stroke-width:1.5;\"/>\n   </g>\n   <g id=\"patch_3\">\n    <path d=\"M 43.78125 239.758125 \nL 43.78125 22.318125 \n\" style=\"fill:none;stroke:#000000;stroke-linecap:square;stroke-linejoin:miter;stroke-width:0.8;\"/>\n   </g>\n   <g id=\"patch_4\">\n    <path d=\"M 378.58125 239.758125 \nL 378.58125 22.318125 \n\" style=\"fill:none;stroke:#000000;stroke-linecap:square;stroke-linejoin:miter;stroke-width:0.8;\"/>\n   </g>\n   <g id=\"patch_5\">\n    <path d=\"M 43.78125 239.758125 \nL 378.58125 239.758125 \n\" style=\"fill:none;stroke:#000000;stroke-linecap:square;stroke-linejoin:miter;stroke-width:0.8;\"/>\n   </g>\n   <g id=\"patch_6\">\n    <path d=\"M 43.78125 22.318125 \nL 378.58125 22.318125 \n\" style=\"fill:none;stroke:#000000;stroke-linecap:square;stroke-linejoin:miter;stroke-width:0.8;\"/>\n   </g>\n   <g id=\"text_15\">\n    <!-- ROC Curve -->\n    <defs>\n     <path d=\"M 39.40625 66.21875 \nQ 28.65625 66.21875 22.328125 58.203125 \nQ 16.015625 50.203125 16.015625 36.375 \nQ 16.015625 22.609375 22.328125 14.59375 \nQ 28.65625 6.59375 39.40625 6.59375 \nQ 50.140625 6.59375 56.421875 14.59375 \nQ 62.703125 22.609375 62.703125 36.375 \nQ 62.703125 50.203125 56.421875 58.203125 \nQ 50.140625 66.21875 39.40625 66.21875 \nz\nM 39.40625 74.21875 \nQ 54.734375 74.21875 63.90625 63.9375 \nQ 73.09375 53.65625 73.09375 36.375 \nQ 73.09375 19.140625 63.90625 8.859375 \nQ 54.734375 -1.421875 39.40625 -1.421875 \nQ 24.03125 -1.421875 14.8125 8.828125 \nQ 5.609375 19.09375 5.609375 36.375 \nQ 5.609375 53.65625 14.8125 63.9375 \nQ 24.03125 74.21875 39.40625 74.21875 \nz\n\" id=\"DejaVuSans-79\"/>\n     <path d=\"M 64.40625 67.28125 \nL 64.40625 56.890625 \nQ 59.421875 61.53125 53.78125 63.8125 \nQ 48.140625 66.109375 41.796875 66.109375 \nQ 29.296875 66.109375 22.65625 58.46875 \nQ 16.015625 50.828125 16.015625 36.375 \nQ 16.015625 21.96875 22.65625 14.328125 \nQ 29.296875 6.6875 41.796875 6.6875 \nQ 48.140625 6.6875 53.78125 8.984375 \nQ 59.421875 11.28125 64.40625 15.921875 \nL 64.40625 5.609375 \nQ 59.234375 2.09375 53.4375 0.328125 \nQ 47.65625 -1.421875 41.21875 -1.421875 \nQ 24.65625 -1.421875 15.125 8.703125 \nQ 5.609375 18.84375 5.609375 36.375 \nQ 5.609375 53.953125 15.125 64.078125 \nQ 24.65625 74.21875 41.21875 74.21875 \nQ 47.75 74.21875 53.53125 72.484375 \nQ 59.328125 70.75 64.40625 67.28125 \nz\n\" id=\"DejaVuSans-67\"/>\n    </defs>\n    <g transform=\"translate(178.490625 16.318125)scale(0.12 -0.12)\">\n     <use xlink:href=\"#DejaVuSans-82\"/>\n     <use x=\"69.482422\" xlink:href=\"#DejaVuSans-79\"/>\n     <use x=\"148.193359\" xlink:href=\"#DejaVuSans-67\"/>\n     <use x=\"218.017578\" xlink:href=\"#DejaVuSans-32\"/>\n     <use x=\"249.804688\" xlink:href=\"#DejaVuSans-67\"/>\n     <use x=\"319.628906\" xlink:href=\"#DejaVuSans-117\"/>\n     <use x=\"383.007812\" xlink:href=\"#DejaVuSans-114\"/>\n     <use x=\"424.121094\" xlink:href=\"#DejaVuSans-118\"/>\n     <use x=\"483.300781\" xlink:href=\"#DejaVuSans-101\"/>\n    </g>\n   </g>\n   <g id=\"legend_1\">\n    <g id=\"patch_7\">\n     <path d=\"M 173.384375 234.758125 \nL 371.58125 234.758125 \nQ 373.58125 234.758125 373.58125 232.758125 \nL 373.58125 219.08 \nQ 373.58125 217.08 371.58125 217.08 \nL 173.384375 217.08 \nQ 171.384375 217.08 171.384375 219.08 \nL 171.384375 232.758125 \nQ 171.384375 234.758125 173.384375 234.758125 \nz\n\" style=\"fill:#ffffff;opacity:0.8;stroke:#cccccc;stroke-linejoin:miter;\"/>\n    </g>\n    <g id=\"line2d_15\">\n     <path d=\"M 175.384375 225.178437 \nL 195.384375 225.178437 \n\" style=\"fill:none;stroke:#1f77b4;stroke-linecap:square;stroke-width:1.5;\"/>\n    </g>\n    <g id=\"line2d_16\"/>\n    <g id=\"text_16\">\n     <!-- Logistic Regression (area = 0.74) -->\n     <defs>\n      <path d=\"M 9.8125 72.90625 \nL 19.671875 72.90625 \nL 19.671875 8.296875 \nL 55.171875 8.296875 \nL 55.171875 0 \nL 9.8125 0 \nz\n\" id=\"DejaVuSans-76\"/>\n      <path d=\"M 45.40625 27.984375 \nQ 45.40625 37.75 41.375 43.109375 \nQ 37.359375 48.484375 30.078125 48.484375 \nQ 22.859375 48.484375 18.828125 43.109375 \nQ 14.796875 37.75 14.796875 27.984375 \nQ 14.796875 18.265625 18.828125 12.890625 \nQ 22.859375 7.515625 30.078125 7.515625 \nQ 37.359375 7.515625 41.375 12.890625 \nQ 45.40625 18.265625 45.40625 27.984375 \nz\nM 54.390625 6.78125 \nQ 54.390625 -7.171875 48.1875 -13.984375 \nQ 42 -20.796875 29.203125 -20.796875 \nQ 24.46875 -20.796875 20.265625 -20.09375 \nQ 16.0625 -19.390625 12.109375 -17.921875 \nL 12.109375 -9.1875 \nQ 16.0625 -11.328125 19.921875 -12.34375 \nQ 23.78125 -13.375 27.78125 -13.375 \nQ 36.625 -13.375 41.015625 -8.765625 \nQ 45.40625 -4.15625 45.40625 5.171875 \nL 45.40625 9.625 \nQ 42.625 4.78125 38.28125 2.390625 \nQ 33.9375 0 27.875 0 \nQ 17.828125 0 11.671875 7.65625 \nQ 5.515625 15.328125 5.515625 27.984375 \nQ 5.515625 40.671875 11.671875 48.328125 \nQ 17.828125 56 27.875 56 \nQ 33.9375 56 38.28125 53.609375 \nQ 42.625 51.21875 45.40625 46.390625 \nL 45.40625 54.6875 \nL 54.390625 54.6875 \nz\n\" id=\"DejaVuSans-103\"/>\n      <path d=\"M 48.78125 52.59375 \nL 48.78125 44.1875 \nQ 44.96875 46.296875 41.140625 47.34375 \nQ 37.3125 48.390625 33.40625 48.390625 \nQ 24.65625 48.390625 19.8125 42.84375 \nQ 14.984375 37.3125 14.984375 27.296875 \nQ 14.984375 17.28125 19.8125 11.734375 \nQ 24.65625 6.203125 33.40625 6.203125 \nQ 37.3125 6.203125 41.140625 7.25 \nQ 44.96875 8.296875 48.78125 10.40625 \nL 48.78125 2.09375 \nQ 45.015625 0.34375 40.984375 -0.53125 \nQ 36.96875 -1.421875 32.421875 -1.421875 \nQ 20.0625 -1.421875 12.78125 6.34375 \nQ 5.515625 14.109375 5.515625 27.296875 \nQ 5.515625 40.671875 12.859375 48.328125 \nQ 20.21875 56 33.015625 56 \nQ 37.15625 56 41.109375 55.140625 \nQ 45.0625 54.296875 48.78125 52.59375 \nz\n\" id=\"DejaVuSans-99\"/>\n      <path d=\"M 54.890625 33.015625 \nL 54.890625 0 \nL 45.90625 0 \nL 45.90625 32.71875 \nQ 45.90625 40.484375 42.875 44.328125 \nQ 39.84375 48.1875 33.796875 48.1875 \nQ 26.515625 48.1875 22.3125 43.546875 \nQ 18.109375 38.921875 18.109375 30.90625 \nL 18.109375 0 \nL 9.078125 0 \nL 9.078125 54.6875 \nL 18.109375 54.6875 \nL 18.109375 46.1875 \nQ 21.34375 51.125 25.703125 53.5625 \nQ 30.078125 56 35.796875 56 \nQ 45.21875 56 50.046875 50.171875 \nQ 54.890625 44.34375 54.890625 33.015625 \nz\n\" id=\"DejaVuSans-110\"/>\n      <path d=\"M 31 75.875 \nQ 24.46875 64.65625 21.28125 53.65625 \nQ 18.109375 42.671875 18.109375 31.390625 \nQ 18.109375 20.125 21.3125 9.0625 \nQ 24.515625 -2 31 -13.1875 \nL 23.1875 -13.1875 \nQ 15.875 -1.703125 12.234375 9.375 \nQ 8.59375 20.453125 8.59375 31.390625 \nQ 8.59375 42.28125 12.203125 53.3125 \nQ 15.828125 64.359375 23.1875 75.875 \nz\n\" id=\"DejaVuSans-40\"/>\n      <path d=\"M 10.59375 45.40625 \nL 73.1875 45.40625 \nL 73.1875 37.203125 \nL 10.59375 37.203125 \nz\nM 10.59375 25.484375 \nL 73.1875 25.484375 \nL 73.1875 17.1875 \nL 10.59375 17.1875 \nz\n\" id=\"DejaVuSans-61\"/>\n      <path d=\"M 8.203125 72.90625 \nL 55.078125 72.90625 \nL 55.078125 68.703125 \nL 28.609375 0 \nL 18.3125 0 \nL 43.21875 64.59375 \nL 8.203125 64.59375 \nz\n\" id=\"DejaVuSans-55\"/>\n      <path d=\"M 8.015625 75.875 \nL 15.828125 75.875 \nQ 23.140625 64.359375 26.78125 53.3125 \nQ 30.421875 42.28125 30.421875 31.390625 \nQ 30.421875 20.453125 26.78125 9.375 \nQ 23.140625 -1.703125 15.828125 -13.1875 \nL 8.015625 -13.1875 \nQ 14.5 -2 17.703125 9.0625 \nQ 20.90625 20.125 20.90625 31.390625 \nQ 20.90625 42.671875 17.703125 53.65625 \nQ 14.5 64.65625 8.015625 75.875 \nz\n\" id=\"DejaVuSans-41\"/>\n     </defs>\n     <g transform=\"translate(203.384375 228.678437)scale(0.1 -0.1)\">\n      <use xlink:href=\"#DejaVuSans-76\"/>\n      <use x=\"53.962891\" xlink:href=\"#DejaVuSans-111\"/>\n      <use x=\"115.144531\" xlink:href=\"#DejaVuSans-103\"/>\n      <use x=\"178.621094\" xlink:href=\"#DejaVuSans-105\"/>\n      <use x=\"206.404297\" xlink:href=\"#DejaVuSans-115\"/>\n      <use x=\"258.503906\" xlink:href=\"#DejaVuSans-116\"/>\n      <use x=\"297.712891\" xlink:href=\"#DejaVuSans-105\"/>\n      <use x=\"325.496094\" xlink:href=\"#DejaVuSans-99\"/>\n      <use x=\"380.476562\" xlink:href=\"#DejaVuSans-32\"/>\n      <use x=\"412.263672\" xlink:href=\"#DejaVuSans-82\"/>\n      <use x=\"477.246094\" xlink:href=\"#DejaVuSans-101\"/>\n      <use x=\"538.769531\" xlink:href=\"#DejaVuSans-103\"/>\n      <use x=\"602.246094\" xlink:href=\"#DejaVuSans-114\"/>\n      <use x=\"641.109375\" xlink:href=\"#DejaVuSans-101\"/>\n      <use x=\"702.632812\" xlink:href=\"#DejaVuSans-115\"/>\n      <use x=\"754.732422\" xlink:href=\"#DejaVuSans-115\"/>\n      <use x=\"806.832031\" xlink:href=\"#DejaVuSans-105\"/>\n      <use x=\"834.615234\" xlink:href=\"#DejaVuSans-111\"/>\n      <use x=\"895.796875\" xlink:href=\"#DejaVuSans-110\"/>\n      <use x=\"959.175781\" xlink:href=\"#DejaVuSans-32\"/>\n      <use x=\"990.962891\" xlink:href=\"#DejaVuSans-40\"/>\n      <use x=\"1029.976562\" xlink:href=\"#DejaVuSans-97\"/>\n      <use x=\"1091.255859\" xlink:href=\"#DejaVuSans-114\"/>\n      <use x=\"1130.119141\" xlink:href=\"#DejaVuSans-101\"/>\n      <use x=\"1191.642578\" xlink:href=\"#DejaVuSans-97\"/>\n      <use x=\"1252.921875\" xlink:href=\"#DejaVuSans-32\"/>\n      <use x=\"1284.708984\" xlink:href=\"#DejaVuSans-61\"/>\n      <use x=\"1368.498047\" xlink:href=\"#DejaVuSans-32\"/>\n      <use x=\"1400.285156\" xlink:href=\"#DejaVuSans-48\"/>\n      <use x=\"1463.908203\" xlink:href=\"#DejaVuSans-46\"/>\n      <use x=\"1495.695312\" xlink:href=\"#DejaVuSans-55\"/>\n      <use x=\"1559.318359\" xlink:href=\"#DejaVuSans-52\"/>\n      <use x=\"1622.941406\" xlink:href=\"#DejaVuSans-41\"/>\n     </g>\n    </g>\n   </g>\n  </g>\n </g>\n <defs>\n  <clipPath id=\"p4daf106975\">\n   <rect height=\"217.44\" width=\"334.8\" x=\"43.78125\" y=\"22.318125\"/>\n  </clipPath>\n </defs>\n</svg>\n",
      "image/png": "[encoded data removed]"
     },
     "metadata": {
      "needs_background": "light"
     }
    }
   ],
   "source": [
    "from sklearn.metrics import roc_auc_score\n",
    "from sklearn.metrics import roc_curve\n",
    "logit_roc_auc = roc_auc_score(y_test, logreg.predict(X_test))\n",
    "fpr, tpr, thresholds = roc_curve(y_test, logreg.predict_proba(X_test)[:,1])\n",
    "plt.figure()\n",
    "plt.plot(fpr, tpr, label='Logistic Regression (area = %0.2f)' % logit_roc_auc)\n",
    "plt.plot([0, 1], [0, 1],'r--')\n",
    "plt.xlim([0.0, 1.0])\n",
    "plt.ylim([0.0, 1.05])\n",
    "plt.xlabel('False Positive Rate')\n",
    "plt.ylabel('True Positive Rate')\n",
    "plt.title('ROC Curve')\n",
    "plt.legend()\n",
    "plt.show()"
   ]
  },
  {
   "cell_type": "code",
   "execution_count": 1,
   "metadata": {},
   "outputs": [
    {
     "output_type": "execute_result",
     "data": {
      "text/plain": [
       "<All keys matched successfully>"
      ]
     },
     "metadata": {},
     "execution_count": 1
    }
   ],
   "source": [
    "\n"
   ]
  },
  {
   "cell_type": "code",
   "execution_count": null,
   "metadata": {},
   "outputs": [],
   "source": []
  }
 ],
 "metadata": {
  "kernelspec": {
   "display_name": "Python 3",
   "language": "python",
   "name": "python3"
  },
  "language_info": {
   "codemirror_mode": {
    "name": "ipython",
    "version": 3
   },
   "file_extension": ".py",
   "mimetype": "text/x-python",
   "name": "python",
   "nbconvert_exporter": "python",
   "pygments_lexer": "ipython3",
   "version": "3.8.3-final"
  }
 },
 "nbformat": 4,
 "nbformat_minor": 4
}