{
 "cells": [
  {
   "cell_type": "code",
   "execution_count": 2,
   "metadata": {},
   "outputs": [],
   "source": [
    "import pandas as pd\n",
    "import numpy as np"
   ]
  },
  {
   "cell_type": "code",
   "execution_count": 3,
   "metadata": {},
   "outputs": [],
   "source": [
    "data = pd.read_csv('data.csv')"
   ]
  },
  {
   "cell_type": "code",
   "execution_count": 4,
   "metadata": {},
   "outputs": [
    {
     "name": "stdout",
     "output_type": "stream",
     "text": [
      "<class 'pandas.core.frame.DataFrame'>\n",
      "RangeIndex: 4009 entries, 0 to 4008\n",
      "Data columns (total 4 columns):\n",
      " #   Column    Non-Null Count  Dtype \n",
      "---  ------    --------------  ----- \n",
      " 0   URLs      4009 non-null   object\n",
      " 1   Headline  4009 non-null   object\n",
      " 2   Body      3988 non-null   object\n",
      " 3   Label     4009 non-null   int64 \n",
      "dtypes: int64(1), object(3)\n",
      "memory usage: 125.4+ KB\n"
     ]
    }
   ],
   "source": [
    "data.info()"
   ]
  },
  {
   "cell_type": "code",
   "execution_count": 10,
   "metadata": {},
   "outputs": [
    {
     "data": {
      "text/plain": [
       "\"The feud broke into public view last week when Mr. Corker said that Mr. Trump’s advisers were guarding against “chaos.” The president retaliated on Sunday by saying the retiring senator “didn’t have the guts to run” for another term. Mr. Corker responded on Twitter an hour later, saying that the White House had become an “adult day care center.”\\nHe then unloaded in an interview with The New York Times, saying in public what many of his Republican colleagues say in private — that the president is dangerously erratic, treats his high office like “a reality show,” has to be contained by his staff and is reckless enough to put the country “on the path to World War III.”\\nMr. Corker, a moderate by temperament as well as ideology, had measured his occasional criticisms of Mr. Trump for months in hopes of influencing his foreign policy, but evidently feels liberated now that he has decided not to run for a third term.\\nFew other incumbent Republicans rushed to the microphones to echo his comments on Monday, but several made little attempt to hide their irritation at Mr. Trump for attacking Mr. Corker.\\n“He’s an important part of our team, and he’s a particularly important part of the budget debate, which will be on the floor next week,” Mr. McConnell said pointedly at an event in Hazard, Ky., with Scott Pruitt, the head of the Environmental Protection Agency.\\n“Bob Corker has been a leader in Congress on issues as diverse as deficit reduction and combating terrorism, and he is a man of unwavering integrity,” Senator Rob Portman, Republican of Ohio, said in a statement. “If we’re going to accomplish our economic and national security agenda we’re going to have to work together, period.”\\nMr. McConnell’s associates were blunter in expressing the leadership’s frustration with the president for disrupting party unity as Republicans push for tax cuts. “This was going to be hard no matter what,” said Billy Piper, Mr. McConnell’s former chief of staff. “And he took the guy who was one of the linchpins of this and incinerated him for no reason.”\\nAdvertisement Continue reading the main story\\nThe White House spent Monday telling allies that Mr. Corker was responsible for the fight, not Mr. Trump, and that the senator was an attention-seeking obstructionist.\\nNewsletter Sign Up Continue reading the main story Please verify you're not a robot by clicking the box. Invalid email address. Please re-enter. You must select a newsletter to subscribe to. Sign Up You agree to receive occasional updates and special offers for The New York Times's products and services. Thank you for subscribing. An error has occurred. Please try again later. View all New York Times newsletters.\\n“I find tweets like this to be incredibly irresponsible,” Kellyanne Conway, the president’s counselor, told Fox News, referring to Mr. Corker’s posted response to Mr. Trump on Sunday. “It adds to the insulting that the mainstream media and the president’s detractors — almost a year after this election, they still can’t accept the election results. It adds to their ability and their cover to speak about the president of the United States in ways that no president should be talked about.”\\nVice President Mike Pence was left to defend Mr. Trump against what he called “empty rhetoric and baseless attacks,” saying the president had accomplished a lot internationally. “Today our nation once again stands without apology as leader of the free world,” Mr. Pence said in a statement. “That’s what American leadership on the world stage looks like and no amount of criticism at home can diminish those results.”\\nMr. Trump has grown frustrated by Senate Republicans — including lashing out at Mr. McConnell for not getting the job done — as legislation to repeal President Barack Obama’s health care program has been repeatedly blocked. He has engaged in open conflicts with Senators John McCain and Jeff Flake of Arizona, Lindsey Graham of South Carolina and Lisa Murkowski of Alaska, among others, although just Monday he went golfing with Mr. Graham.\\nSome Republican senators share Mr. Trump’s frustration with gridlock in the Senate. “We want things to move quickly,” said Senator Thom Tillis of North Carolina, who was elected in 2014. “People are frustrated with the lack of results.”\\nSenator David Perdue of Georgia, another member of the 2014 class, has been even more outspoken in venting about fellow Republicans derailing health care legislation. “People are very upset that Republican senators are not backing the agenda of this president,” he said.\\nMr. Trump’s former chief strategist, Stephen K. Bannon, acting in what he says is the president’s interest, is organizing a rebellion against the Republican establishment and recruiting candidates to challenge incumbent senators in primaries next year. “This is what they think about President Trump behind closed doors,” Mr. Bannon said on Fox News on Monday night, referring to Mr. Corker’s comments and calling on the senator to resign. Mr. Pence’s chief of staff has talked about a “purge” of Republicans who are not loyal to Mr. Trump.\\nThat may keep more Republicans on board even if they agree with Mr. Corker.\\n“Do most senators have their doubts about the president?” asked John Feehery, a longtime Republican congressional aide. “That’s probably true, but also largely irrelevant. He’s the president, and they have to find ways to get stuff done with him. Otherwise, they face the wrath of the voters — something Bob Corker no longer worries about.”\\nIn effect, Mr. McCain, Ms. Murkowski and Senator Susan Collins of Maine already were free agents on many issues. Regular defections by Mr. Corker would make the president’s ability to pass legislation that much harder, absent bipartisan deals with Democrats.\\nAdvertisement Continue reading the main story\\nAs chairman of the Senate Foreign Relations Committee, Mr. Corker could block the confirmation of a new secretary of state should Mr. Trump push out his embattled chief diplomat, Rex W. Tillerson. He also, presumably, would play a key role in any decision on whether to tear up the Iran nuclear deal.\\n“Senate Republicans’ frustrations with Trump are starting to boil over,” said Alex Conant, a former Senate Republican aide. “I’m sure the feelings are mutual inside the White House. The relationship was always tenuous at best, but Corker’s comments are a new low point.”\\n“If they were getting a lot done, it would be easier for everyone to get along,” Mr. Conant said. “Of course, the fact that they’re not getting along also makes it harder to get anything done.”\""
      ]
     },
     "execution_count": 10,
     "metadata": {},
     "output_type": "execute_result"
    }
   ],
   "source": [
    "data.Body[2]"
   ]
  },
  {
   "cell_type": "code",
   "execution_count": null,
   "metadata": {},
   "outputs": [],
   "source": []
  },
  {
   "cell_type": "code",
   "execution_count": null,
   "metadata": {},
   "outputs": [],
   "source": []
  },
  {
   "cell_type": "code",
   "execution_count": null,
   "metadata": {},
   "outputs": [],
   "source": []
  },
  {
   "cell_type": "code",
   "execution_count": null,
   "metadata": {},
   "outputs": [],
   "source": []
  },
  {
   "cell_type": "code",
   "execution_count": null,
   "metadata": {},
   "outputs": [],
   "source": []
  },
  {
   "cell_type": "code",
   "execution_count": null,
   "metadata": {},
   "outputs": [],
   "source": []
  },
  {
   "cell_type": "code",
   "execution_count": null,
   "metadata": {},
   "outputs": [],
   "source": []
  },
  {
   "cell_type": "code",
   "execution_count": null,
   "metadata": {},
   "outputs": [],
   "source": []
  },
  {
   "cell_type": "code",
   "execution_count": null,
   "metadata": {},
   "outputs": [],
   "source": []
  },
  {
   "cell_type": "code",
   "execution_count": null,
   "metadata": {},
   "outputs": [],
   "source": []
  },
  {
   "cell_type": "code",
   "execution_count": null,
   "metadata": {},
   "outputs": [],
   "source": []
  },
  {
   "cell_type": "code",
   "execution_count": null,
   "metadata": {},
   "outputs": [],
   "source": []
  },
  {
   "cell_type": "code",
   "execution_count": null,
   "metadata": {},
   "outputs": [],
   "source": []
  },
  {
   "cell_type": "code",
   "execution_count": null,
   "metadata": {},
   "outputs": [],
   "source": []
  },
  {
   "cell_type": "code",
   "execution_count": null,
   "metadata": {},
   "outputs": [],
   "source": []
  },
  {
   "cell_type": "code",
   "execution_count": null,
   "metadata": {},
   "outputs": [],
   "source": []
  },
  {
   "cell_type": "code",
   "execution_count": null,
   "metadata": {},
   "outputs": [],
   "source": []
  },
  {
   "cell_type": "code",
   "execution_count": null,
   "metadata": {},
   "outputs": [],
   "source": []
  },
  {
   "cell_type": "code",
   "execution_count": null,
   "metadata": {},
   "outputs": [],
   "source": []
  },
  {
   "cell_type": "code",
   "execution_count": null,
   "metadata": {},
   "outputs": [],
   "source": []
  },
  {
   "cell_type": "code",
   "execution_count": null,
   "metadata": {},
   "outputs": [],
   "source": []
  },
  {
   "cell_type": "code",
   "execution_count": null,
   "metadata": {},
   "outputs": [],
   "source": []
  },
  {
   "cell_type": "code",
   "execution_count": null,
   "metadata": {},
   "outputs": [],
   "source": []
  },
  {
   "cell_type": "code",
   "execution_count": null,
   "metadata": {},
   "outputs": [],
   "source": []
  },
  {
   "cell_type": "code",
   "execution_count": null,
   "metadata": {},
   "outputs": [],
   "source": []
  }
 ],
 "metadata": {
  "kernelspec": {
   "display_name": "Python 3",
   "language": "python",
   "name": "python3"
  },
  "language_info": {
   "codemirror_mode": {
    "name": "ipython",
    "version": 3
   },
   "file_extension": ".py",
   "mimetype": "text/x-python",
   "name": "python",
   "nbconvert_exporter": "python",
   "pygments_lexer": "ipython3",
   "version": "3.8.3"
  }
 },
 "nbformat": 4,
 "nbformat_minor": 4
}
